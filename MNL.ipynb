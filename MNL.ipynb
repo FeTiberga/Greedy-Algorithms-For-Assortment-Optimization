{
 "cells": [
  {
   "cell_type": "code",
   "execution_count": 191,
   "metadata": {},
   "outputs": [],
   "source": [
    "import gurobipy as gp"
   ]
  },
  {
   "cell_type": "code",
   "execution_count": 257,
   "metadata": {},
   "outputs": [
    {
     "name": "stdout",
     "output_type": "stream",
     "text": [
      "[0.02 0.01 0.17 0.09 0.07 0.01 0.01 0.43 0.43 0.07 0.05 0.02 0.67 0.69\n",
      " 0.74 0.78 0.87 0.92 0.9  1.03 0.08 0.01 1.14 0.01 1.21]\n"
     ]
    }
   ],
   "source": [
    "import numpy as np\n",
    "import numpy.random as npr\n",
    "N = 25 #25 50 75 100\n",
    "v = np.zeros(N)\n",
    "# v = npr.uniform(0.5, 1.5, N)\n",
    "for i in range(N):\n",
    "    utility = npr.randint(0, 2)*i*0.05 + npr.rand()*0.1\n",
    "    v[i] = max(round(utility, 2), 0.01)\n",
    "print(v)"
   ]
  },
  {
   "cell_type": "code",
   "execution_count": 258,
   "metadata": {},
   "outputs": [],
   "source": [
    "def profit_mnl(p, S):\n",
    "    global v\n",
    "    pi = 0\n",
    "    Vj_S = 0\n",
    "    num = 0\n",
    "    for i in S:\n",
    "        num += p[i]*v[i]\n",
    "        Vj_S += v[i]\n",
    "    pi += num/(1+Vj_S)\n",
    "    return pi"
   ]
  },
  {
   "cell_type": "code",
   "execution_count": 259,
   "metadata": {},
   "outputs": [],
   "source": [
    "def nested_by_price_mnl(p):\n",
    "    global N\n",
    "    profits = [0 for i in range(N)]\n",
    "    S = []\n",
    "    for i in range(N):\n",
    "        S.append(i)\n",
    "        profits[i] = profit_mnl(p, S)\n",
    "    best_S = [i for i in range(np.argmax(profits)+1)]\n",
    "    return max(profits), best_S"
   ]
  },
  {
   "cell_type": "code",
   "execution_count": 260,
   "metadata": {},
   "outputs": [],
   "source": [
    "def find_best_option_mnl(p, S):\n",
    "    global v, N\n",
    "    current_best = profit_mnl(p, S)\n",
    "    bestS = S\n",
    "    flag = 0\n",
    "    N_S = [k for k in range(N) if k not in S]\n",
    "    for k in N_S:\n",
    "        newS = S + [k]\n",
    "        if profit_mnl(p, newS) >= current_best:\n",
    "            flag = 1\n",
    "            bestS = newS\n",
    "            current_best = profit_mnl(p, newS)\n",
    "    return current_best, bestS, flag\n",
    "\n",
    "def greedy_mnl(p):\n",
    "    global v, N\n",
    "    max_profit = -1\n",
    "    best_S = []\n",
    "    S = []\n",
    "    flag = 1\n",
    "    while flag==1:\n",
    "        max_profit, S, flag = find_best_option_mnl(p, S)\n",
    "    best_S = sorted(S)\n",
    "    return max_profit, best_S"
   ]
  },
  {
   "cell_type": "code",
   "execution_count": 261,
   "metadata": {},
   "outputs": [],
   "source": [
    "import matplotlib.pyplot as plt\n",
    "import math\n",
    "import statistics as st\n",
    "import time"
   ]
  },
  {
   "cell_type": "code",
   "execution_count": 272,
   "metadata": {},
   "outputs": [],
   "source": [
    "n_simulations = 100\n",
    "avg_price = 12\n",
    "\n",
    "#compute prices\n",
    "psim = [0 for k in range(n_simulations)]\n",
    "for k in range(n_simulations):\n",
    "    psim[k] = abs(npr.normal(avg_price, avg_price, N))\n",
    "    # psim[k] = npr.uniform(avg_price - math.sqrt(3*avg_price), avg_price + math.sqrt(3*avg_price), N)\n",
    "    psim[k] = npr.exponential(avg_price, N)\n",
    "    psim[k] = np.round(psim[k], 2)\n",
    "    psim[k] = sorted(psim[k], reverse=True)"
   ]
  },
  {
   "cell_type": "code",
   "execution_count": 273,
   "metadata": {},
   "outputs": [],
   "source": [
    "# problem solved using the nested formulation\n",
    "profits_nested = []\n",
    "times_nested = []\n",
    "bestS_nested = []\n",
    "\n",
    "for k in range(n_simulations):\n",
    "\n",
    "    start_time = time.time()\n",
    "    profit, bestS = nested_by_price_mnl(psim[k])\n",
    "    end_time = time.time()\n",
    "\n",
    "    profits_nested.append(profit)\n",
    "    times_nested.append(end_time-start_time)\n",
    "    bestS_nested.append(bestS)\n",
    "    \n",
    "avg_time_nested = st.mean(times_nested)"
   ]
  },
  {
   "cell_type": "code",
   "execution_count": 274,
   "metadata": {},
   "outputs": [],
   "source": [
    "# problem solved using the greedy formulation\n",
    "profits_greedy = []\n",
    "times_greedy = []\n",
    "bestS_greedy = []\n",
    "\n",
    "for k in range(n_simulations):\n",
    "    \n",
    "    start_time = time.time()\n",
    "    profit, bestS = greedy_mnl(psim[k])\n",
    "    end_time = time.time()\n",
    "    \n",
    "    profits_greedy.append(profit)\n",
    "    times_greedy.append(end_time-start_time)\n",
    "    bestS_greedy.append(bestS)\n",
    "\n",
    "avg_time_greedy = st.mean(times_greedy)"
   ]
  },
  {
   "cell_type": "code",
   "execution_count": 275,
   "metadata": {},
   "outputs": [
    {
     "name": "stdout",
     "output_type": "stream",
     "text": [
      "[0, 1, 2, 3, 4, 5, 6, 7, 8, 9, 10, 11, 12] [0, 1, 2, 3, 4, 5, 6, 7, 8, 9, 10, 11, 12, 13, 16] 11.761278688524587 11.666485900216923\n"
     ]
    }
   ],
   "source": [
    "# counting how many instances are different\n",
    "count = 0\n",
    "different_results_greedy = []\n",
    "\n",
    "for k in range(n_simulations):\n",
    "    if bestS_nested[k] != bestS_greedy[k]:\n",
    "        count += 100/n_simulations\n",
    "        different_results_greedy.append(100*profits_greedy[k]/profits_nested[k])\n",
    "        print(bestS_nested[k], bestS_greedy[k], profits_nested[k], profits_greedy[k])\n"
   ]
  },
  {
   "cell_type": "code",
   "execution_count": 276,
   "metadata": {},
   "outputs": [
    {
     "name": "stdout",
     "output_type": "stream",
     "text": [
      "DR =  1.0\n",
      "Min = 99.19402651005836\n",
      "Mean = 99.19402651005836\n",
      "t = 565.1482264237162\n"
     ]
    }
   ],
   "source": [
    "if different_results_greedy != []:\n",
    "    print('DR =  ' + str(count))\n",
    "    print('Min = ' + str(min(different_results_greedy)))\n",
    "    print('Mean = ' + str(st.mean(different_results_greedy)))\n",
    "else:\n",
    "    print('DR =  0')\n",
    "    print('Min = NA')\n",
    "    print('Mean = NA')\n",
    "print('t = ' + str(100*avg_time_greedy/avg_time_nested))"
   ]
  }
 ],
 "metadata": {
  "kernelspec": {
   "display_name": "GAAP",
   "language": "python",
   "name": "python3"
  },
  "language_info": {
   "codemirror_mode": {
    "name": "ipython",
    "version": 3
   },
   "file_extension": ".py",
   "mimetype": "text/x-python",
   "name": "python",
   "nbconvert_exporter": "python",
   "pygments_lexer": "ipython3",
   "version": "3.7.16"
  },
  "orig_nbformat": 4
 },
 "nbformat": 4,
 "nbformat_minor": 2
}
