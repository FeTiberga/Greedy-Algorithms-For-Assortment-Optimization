{
 "cells": [
  {
   "cell_type": "code",
   "execution_count": 1,
   "id": "1843d8c8",
   "metadata": {},
   "outputs": [],
   "source": [
    "from gurobipy import *"
   ]
  },
  {
   "cell_type": "markdown",
   "id": "ba865321",
   "metadata": {},
   "source": [
    "# MNL"
   ]
  },
  {
   "cell_type": "code",
   "execution_count": 2,
   "id": "4c4c2424",
   "metadata": {},
   "outputs": [
    {
     "name": "stdout",
     "output_type": "stream",
     "text": [
      "[0.00000000e+00 2.83756010e-01 3.31665633e+00 5.96335793e+00\n",
      " 5.38800145e+00 8.03691351e+00 2.37038946e+01 4.00854393e+01\n",
      " 4.38001605e+01 4.34722880e+01 1.48395491e+01 1.36495618e+00\n",
      " 5.19875715e+00 1.33458446e+02 1.04684247e+02 1.77193758e+02\n",
      " 1.83114947e+02 2.81672922e+01 1.40749578e+02 1.23444905e+02\n",
      " 2.95295046e+02 7.85082654e+01 6.90154889e+00 2.62344473e+02\n",
      " 2.12548142e+02]\n"
     ]
    }
   ],
   "source": [
    "import numpy as np\n",
    "import numpy.random as npr\n",
    "N = 25 #25 50 75 100\n",
    "v = np.zeros(N)\n",
    "for i in range(N):\n",
    "    v[i] = npr.rand()*i**2\n",
    "# v = 100*npr.rand()\n",
    "print(v)"
   ]
  },
  {
   "cell_type": "code",
   "execution_count": 3,
   "id": "86c5aad9",
   "metadata": {},
   "outputs": [],
   "source": [
    "def profit(p, S):\n",
    "    global v\n",
    "    V_S = 0\n",
    "    num = 0\n",
    "    for j in S:\n",
    "        num+=p[j]*v[j]\n",
    "        V_S+=v[j]\n",
    "    return num/(1+V_S)"
   ]
  },
  {
   "cell_type": "code",
   "execution_count": 4,
   "id": "6e93ca6b",
   "metadata": {},
   "outputs": [],
   "source": [
    "def nested_by_price(p):\n",
    "    global v\n",
    "    global N\n",
    "    max_profit = -1\n",
    "    best_S = []\n",
    "    for i in range(N):\n",
    "        S = [j for j in range(i+1)]\n",
    "        if profit(p, S) >= max_profit:\n",
    "            best_S = S\n",
    "            max_profit = profit(p, S)\n",
    "    best_S = sorted(best_S)\n",
    "    return max_profit, best_S"
   ]
  },
  {
   "cell_type": "code",
   "execution_count": 5,
   "id": "3865843a",
   "metadata": {},
   "outputs": [],
   "source": [
    "def find_best_option(p, S):\n",
    "    global v\n",
    "    global N\n",
    "    current_best = profit(p, S)\n",
    "    bestS = S\n",
    "    flag = 0\n",
    "    N_S = [i for i in range(N) if i not in S]\n",
    "    for i in N_S:\n",
    "        newS = S + [i]\n",
    "        if profit(p, newS) >= current_best:\n",
    "            flag = 1\n",
    "            bestS = newS\n",
    "            current_best = profit(p, newS)\n",
    "    return current_best, bestS, flag\n",
    "\n",
    "def greedy(p):\n",
    "    global v\n",
    "    global N\n",
    "    max_profit = -1\n",
    "    best_S = []\n",
    "    S = []\n",
    "    flag = 1\n",
    "    while flag==1:\n",
    "        max_profit, S, flag = find_best_option(p, S)\n",
    "    best_S = sorted(S)\n",
    "    return max_profit, best_S"
   ]
  },
  {
   "cell_type": "code",
   "execution_count": 6,
   "id": "29f64c00",
   "metadata": {},
   "outputs": [],
   "source": [
    "import matplotlib.pyplot as plt\n",
    "import math\n",
    "import statistics as st\n",
    "import time"
   ]
  },
  {
   "cell_type": "code",
   "execution_count": 10,
   "id": "8dad2f1f",
   "metadata": {},
   "outputs": [
    {
     "name": "stdout",
     "output_type": "stream",
     "text": [
      "2484\n",
      "92.35314977950704\n",
      "99.99999999999999\n",
      "99.95170425414135\n",
      "100.00000000000006\n"
     ]
    }
   ],
   "source": [
    "n_simulations = 100000\n",
    "avg_price = 100\n",
    "std_price = 50\n",
    "count = 0\n",
    "result = np.zeros(n_simulations)\n",
    "for i in range(n_simulations):\n",
    "    p = npr.exponential(avg_price, N)\n",
    "    # p = npr.normal(avg_price, std_price, N)\n",
    "    p = sorted(p, reverse = True)\n",
    "    nbp = nested_by_price(p)\n",
    "    gr = greedy(p)\n",
    "    result[i] = 100*gr[0]/nbp[0]\n",
    "    if gr[1] != nbp[1]:\n",
    "        count+=1\n",
    "print(count)\n",
    "print(min(result))\n",
    "print(st.mean(result))\n",
    "print(max(result))"
   ]
  }
 ],
 "metadata": {
  "kernelspec": {
   "display_name": "Python 3 (ipykernel)",
   "language": "python",
   "name": "python3"
  },
  "language_info": {
   "codemirror_mode": {
    "name": "ipython",
    "version": 3
   },
   "file_extension": ".py",
   "mimetype": "text/x-python",
   "name": "python",
   "nbconvert_exporter": "python",
   "pygments_lexer": "ipython3",
   "version": "3.9.12"
  }
 },
 "nbformat": 4,
 "nbformat_minor": 5
}
