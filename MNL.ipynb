{
 "cells": [
  {
   "cell_type": "code",
   "execution_count": 111,
   "metadata": {},
   "outputs": [],
   "source": [
    "import gurobipy as gp"
   ]
  },
  {
   "cell_type": "code",
   "execution_count": 122,
   "metadata": {},
   "outputs": [
    {
     "name": "stdout",
     "output_type": "stream",
     "text": [
      "[1.01182162 1.4504637  0.64415961 1.44864945 0.81183145 0.92332645\n",
      " 1.32770259 0.90919914 1.04959369 0.52755911 1.25351311 1.03814331\n",
      " 0.82973172 1.2884287  0.80319483 0.95349789 0.6340417  0.90311299\n",
      " 0.70345524 0.76231334 1.25036467 0.78040876 0.98519097 1.4807372\n",
      " 1.46165719 1.22478994 1.04122686 0.7768912  0.66065201 1.46992541\n",
      " 1.01606859 0.61586561 1.12348976 1.27668311 1.1130033  1.4172977\n",
      " 0.53959288 1.02858926 0.95933588 0.56234958 1.14132817 1.35263284\n",
      " 1.09294102 0.76009745 1.33988152 1.00949588 1.01088888 1.25303021\n",
      " 0.64792204 1.31962672 1.18328691 1.28709694 0.69161626 1.30236416\n",
      " 0.69132393 0.58155262 1.35522697 1.3612835  1.3765371  0.97190972\n",
      " 0.77404839 0.50709183 1.1457209  1.21990938 1.33556922 0.78187783\n",
      " 0.71521817 1.13933138 1.30505483 1.46367087 0.65052483 0.98221239\n",
      " 1.39471586 0.92271691 1.08950206 0.52449068 1.17345989 1.41908862\n",
      " 1.32682533 1.38552027 1.16035538 0.74555227 1.268517   0.71167474\n",
      " 1.33127483 0.56271792 1.32548781 0.66450727 0.875147   0.81673817\n",
      " 1.19133704 0.67857188 0.89625616 0.5058246  0.76249471 0.92118881\n",
      " 0.60592124 1.13315995 0.88042427 1.22529394]\n"
     ]
    }
   ],
   "source": [
    "import numpy as np\n",
    "import numpy.random as npr\n",
    "seed = 1\n",
    "rng = npr.default_rng(seed)\n",
    "N = 100 #25 50 75 100\n",
    "v = np.zeros(N)\n",
    "v = rng.uniform(0.5, 1.5, N)\n",
    "# for i in range(N):\n",
    "#    utility = rng.integers(2)*i*0.05 + rng.random()*0.1\n",
    "#    v[i] = max(round(utility, 2), 0.01) \n",
    "print(v)"
   ]
  },
  {
   "cell_type": "code",
   "execution_count": 113,
   "metadata": {},
   "outputs": [],
   "source": [
    "def profit_mnl(p, S):\n",
    "    global v\n",
    "    pi = 0\n",
    "    Vj_S = 0\n",
    "    num = 0\n",
    "    for i in S:\n",
    "        num += p[i]*v[i]\n",
    "        Vj_S += v[i]\n",
    "    pi += num/(1+Vj_S)\n",
    "    return pi"
   ]
  },
  {
   "cell_type": "code",
   "execution_count": 114,
   "metadata": {},
   "outputs": [],
   "source": [
    "def nested_by_price_mnl(p):\n",
    "    global N\n",
    "    profits = [0 for i in range(N)]\n",
    "    S = []\n",
    "    for i in range(N):\n",
    "        S.append(i)\n",
    "        profits[i] = profit_mnl(p, S)\n",
    "    best_S = [i for i in range(np.argmax(profits)+1)]\n",
    "    return max(profits), best_S"
   ]
  },
  {
   "cell_type": "code",
   "execution_count": 115,
   "metadata": {},
   "outputs": [],
   "source": [
    "def find_best_option_mnl(p, S):\n",
    "    global v, N\n",
    "    current_best = profit_mnl(p, S)\n",
    "    bestS = S\n",
    "    flag = 0\n",
    "    N_S = [k for k in range(N) if k not in S]\n",
    "    for k in N_S:\n",
    "        newS = S + [k]\n",
    "        if profit_mnl(p, newS) >= current_best:\n",
    "            flag = 1\n",
    "            bestS = newS\n",
    "            current_best = profit_mnl(p, newS)\n",
    "    return current_best, bestS, flag\n",
    "\n",
    "def greedy_mnl(p):\n",
    "    global v, N\n",
    "    max_profit = -1\n",
    "    best_S = []\n",
    "    S = []\n",
    "    flag = 1\n",
    "    while flag==1:\n",
    "        max_profit, S, flag = find_best_option_mnl(p, S)\n",
    "    best_S = sorted(S)\n",
    "    return max_profit, best_S"
   ]
  },
  {
   "cell_type": "code",
   "execution_count": 116,
   "metadata": {},
   "outputs": [],
   "source": [
    "import matplotlib.pyplot as plt\n",
    "import math\n",
    "import statistics as st\n",
    "import time"
   ]
  },
  {
   "cell_type": "code",
   "execution_count": 117,
   "metadata": {},
   "outputs": [],
   "source": [
    "n_simulations = 100\n",
    "avg_price = 12\n",
    "seed = 1\n",
    "rng = npr.default_rng(seed)\n",
    "#compute prices\n",
    "psim = [0 for k in range(n_simulations)]\n",
    "for k in range(n_simulations):\n",
    "    psim[k] = abs(rng.normal(avg_price, avg_price, N))\n",
    "    # psim[k] = rng.uniform(avg_price - math.sqrt(3*avg_price), avg_price + math.sqrt(3*avg_price), N)\n",
    "    # psim[k] = rng.exponential(avg_price, N)\n",
    "    psim[k] = np.round(psim[k], 2)\n",
    "    psim[k] = sorted(psim[k], reverse=True)"
   ]
  },
  {
   "cell_type": "code",
   "execution_count": 118,
   "metadata": {},
   "outputs": [],
   "source": [
    "# problem solved using the nested formulation\n",
    "profits_nested = []\n",
    "times_nested = []\n",
    "bestS_nested = []\n",
    "\n",
    "for k in range(n_simulations):\n",
    "\n",
    "    start_time = time.time()\n",
    "    profit, bestS = nested_by_price_mnl(psim[k])\n",
    "    end_time = time.time()\n",
    "\n",
    "    profits_nested.append(profit)\n",
    "    times_nested.append(end_time-start_time)\n",
    "    bestS_nested.append(bestS)\n",
    "    \n",
    "avg_time_nested = st.mean(times_nested)"
   ]
  },
  {
   "cell_type": "code",
   "execution_count": 119,
   "metadata": {},
   "outputs": [],
   "source": [
    "# problem solved using the greedy formulation\n",
    "profits_greedy = []\n",
    "times_greedy = []\n",
    "bestS_greedy = []\n",
    "\n",
    "for k in range(n_simulations):\n",
    "    \n",
    "    start_time = time.time()\n",
    "    profit, bestS = greedy_mnl(psim[k])\n",
    "    end_time = time.time()\n",
    "    \n",
    "    profits_greedy.append(profit)\n",
    "    times_greedy.append(end_time-start_time)\n",
    "    bestS_greedy.append(bestS)\n",
    "\n",
    "avg_time_greedy = st.mean(times_greedy)"
   ]
  },
  {
   "cell_type": "code",
   "execution_count": 120,
   "metadata": {},
   "outputs": [],
   "source": [
    "# counting how many instances are different\n",
    "count = 0\n",
    "different_results_greedy = []\n",
    "\n",
    "for k in range(n_simulations):\n",
    "    if bestS_nested[k] != bestS_greedy[k]:\n",
    "        count += 100/n_simulations\n",
    "        different_results_greedy.append(100*profits_greedy[k]/profits_nested[k])\n",
    "        # print(bestS_nested[k], bestS_greedy[k], profits_nested[k], profits_greedy[k])\n"
   ]
  },
  {
   "cell_type": "code",
   "execution_count": 121,
   "metadata": {},
   "outputs": [
    {
     "name": "stdout",
     "output_type": "stream",
     "text": [
      " & 0 & NA & NA & 96.08\n"
     ]
    }
   ],
   "source": [
    "if different_results_greedy != []:\n",
    "    print(' & ' + str(count) + ' & ' + str(round(min(different_results_greedy), 2)) \\\n",
    "          + ' & ' + str(round(st.mean(different_results_greedy),2)) \\\n",
    "            + ' & ' + str(round(100*avg_time_greedy/avg_time_nested, 2)))\n",
    "else:\n",
    "    print(' & 0 & NA & NA & ' + str(round(100*avg_time_greedy/avg_time_nested, 2)))"
   ]
  },
  {
   "cell_type": "code",
   "execution_count": null,
   "metadata": {},
   "outputs": [],
   "source": []
  }
 ],
 "metadata": {
  "kernelspec": {
   "display_name": "GAAP",
   "language": "python",
   "name": "python3"
  },
  "language_info": {
   "codemirror_mode": {
    "name": "ipython",
    "version": 3
   },
   "file_extension": ".py",
   "mimetype": "text/x-python",
   "name": "python",
   "nbconvert_exporter": "python",
   "pygments_lexer": "ipython3",
   "version": "3.7.16"
  },
  "orig_nbformat": 4
 },
 "nbformat": 4,
 "nbformat_minor": 2
}
