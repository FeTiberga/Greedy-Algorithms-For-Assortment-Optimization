{
 "cells": [
  {
   "attachments": {},
   "cell_type": "markdown",
   "id": "ba865321",
   "metadata": {},
   "source": [
    "# Mixtures of MNLs"
   ]
  },
  {
   "cell_type": "code",
   "execution_count": 41,
   "id": "64ed992a",
   "metadata": {},
   "outputs": [],
   "source": [
    "import gurobipy as gp"
   ]
  },
  {
   "cell_type": "code",
   "execution_count": 42,
   "id": "4c4c2424",
   "metadata": {},
   "outputs": [
    {
     "name": "stdout",
     "output_type": "stream",
     "text": [
      "[[1.01]\n",
      " [0.01]\n",
      " [1.01]]\n",
      "[1.0]\n"
     ]
    }
   ],
   "source": [
    "import numpy as np\n",
    "import numpy.random as npr\n",
    "N = 3 #5 #25 50 75 100\n",
    "M = 1 #1 5 10 20\n",
    "v = np.zeros((N,M))\n",
    "for i in range(N):\n",
    "    for j in range(M):\n",
    "        v[i,j] = max(round(npr.randint(0, 2) + npr.rand()*0.1, 2), 0.01)\n",
    "theta = list(np.random.dirichlet(np.ones(M), size=1)[0])\n",
    "print(v)\n",
    "print(theta)"
   ]
  },
  {
   "cell_type": "code",
   "execution_count": 43,
   "id": "48c874f0",
   "metadata": {},
   "outputs": [],
   "source": [
    "def IP_mmnl(p):\n",
    "    global v, N\n",
    "    global theta, M\n",
    "\n",
    "    #create a new model\n",
    "    model = gp.Model(\"IP_mmnl\")\n",
    "\n",
    "    B = 10*max(p)\n",
    "    # create decision variables and store them in the arrays z, x, y\n",
    "    z = model.addVars(M, vtype=gp.GRB.CONTINUOUS, lb =-np.infty, ub = B, name=\"z\")\n",
    "    x = model.addVars(N, M, vtype=gp.GRB.CONTINUOUS, lb=-np.infty, ub = B, name=\"x\")\n",
    "    y = model.addVars(N, vtype=gp.GRB.BINARY, name=\"y\")\n",
    "    model.update()\n",
    "\n",
    "    # set objective function\n",
    "    objExpr = gp.LinExpr()\n",
    "    for j in range(M):\n",
    "        objExpr += theta[j] * z[j]\n",
    "    model.setObjective(objExpr, gp.GRB.MAXIMIZE)\n",
    "    model.update()\n",
    "\n",
    "    # add constraints\n",
    "    for j in range(M):\n",
    "        myConstr = gp.LinExpr()\n",
    "        for i in range(N):\n",
    "            myConstr += v[i][j] * x[i, j]\n",
    "            model.addConstr(lhs = x[i, j], sense = gp.GRB.LESS_EQUAL, rhs = y[i]*B, name = \"xa_\" + str(i) + '_' + str(j))\n",
    "            model.addConstr(lhs = x[i, j], sense = gp.GRB.GREATER_EQUAL, rhs = -y[i]*B, name = \"xb_\" + str(i) + '_' + str(j))\n",
    "            model.addConstr(lhs = x[i, j], sense = gp.GRB.GREATER_EQUAL, rhs = p[i] - z[j] - (1-y[i])*B, name = \"xc_\" + str(i) + '_' + str(j))\n",
    "            model.addConstr(lhs = x[i, j], sense = gp.GRB.LESS_EQUAL, rhs = p[i] - z[j] + (1-y[i])*B, name = \"xd_\" + str(i) + '_' + str(j))\n",
    "        model.addConstr(lhs = z[j], sense = gp.GRB.LESS_EQUAL, rhs = myConstr, name = \"z_\" + str(j))\n",
    "    model.update()\n",
    "\n",
    "    # write model \n",
    "    model.write(\"IP_mmnl.lp\")\n",
    "\n",
    "    # solve model\n",
    "    model.Params.OutputFlag = 0\n",
    "    model.optimize()\n",
    "    \n",
    "    bestS = []\n",
    "    profit = float(model.objVal)\n",
    "    for i in range(N):\n",
    "        if y[i].x > 0.5:\n",
    "            bestS.append(i)\n",
    "    bestS = sorted(bestS)\n",
    "    return profit, bestS"
   ]
  },
  {
   "cell_type": "code",
   "execution_count": 44,
   "id": "86c5aad9",
   "metadata": {},
   "outputs": [],
   "source": [
    "def profit_mmnl(p, S):\n",
    "    global v\n",
    "    global theta, M\n",
    "    pi = 0\n",
    "    for j in range(M):\n",
    "        Vj_S = 0\n",
    "        num = 0\n",
    "        for i in S:\n",
    "            num += p[i]*v[i][j]\n",
    "            Vj_S += v[i][j]\n",
    "        pi += theta[j]*num/(1+Vj_S)\n",
    "    return pi"
   ]
  },
  {
   "cell_type": "code",
   "execution_count": 45,
   "id": "6affdd46",
   "metadata": {},
   "outputs": [],
   "source": [
    "def brute_force(p):\n",
    "    global N\n",
    "    # compute the profit of each assortment\n",
    "    best_profit = 0\n",
    "    best_S = []\n",
    "    for i in range(2**N):\n",
    "        binary = np.binary_repr(i, width=N)\n",
    "        assortment = [int(x) for x in binary]\n",
    "        S = []\n",
    "        for j in range(N):\n",
    "            if assortment[j] == 1:\n",
    "                S.append(j)\n",
    "        if best_profit < profit_mmnl(p, S):\n",
    "            best_profit = profit_mmnl(p, S)\n",
    "            best_S = S\n",
    "    return best_profit, best_S"
   ]
  },
  {
   "cell_type": "code",
   "execution_count": 46,
   "id": "6e93ca6b",
   "metadata": {},
   "outputs": [],
   "source": [
    "def nested_by_price_mmnl(p):\n",
    "    global N\n",
    "    profits = [0 for i in range(N)]\n",
    "    S = []\n",
    "    for i in range(N):\n",
    "        S.append(i)\n",
    "        profits[i] = profit_mmnl(p, S)\n",
    "    best_S = [i for i in range(np.argmax(profits)+1)]\n",
    "    return max(profits), best_S"
   ]
  },
  {
   "cell_type": "code",
   "execution_count": 47,
   "id": "3865843a",
   "metadata": {},
   "outputs": [],
   "source": [
    "def find_best_option_mmnl(p, S):\n",
    "    global v, N\n",
    "    current_best = profit_mmnl(p, S)\n",
    "    bestS = S\n",
    "    flag = 0\n",
    "    N_S = [k for k in range(N) if k not in S]\n",
    "    for k in N_S:\n",
    "        newS = S + [k]\n",
    "        if profit_mmnl(p, newS) >= current_best:\n",
    "            flag = 1\n",
    "            bestS = newS\n",
    "            current_best = profit_mmnl(p, newS)\n",
    "    return current_best, bestS, flag\n",
    "\n",
    "def greedy_mmnl(p):\n",
    "    global v, N\n",
    "    max_profit = -1\n",
    "    best_S = []\n",
    "    S = []\n",
    "    flag = 1\n",
    "    while flag==1:\n",
    "        max_profit, S, flag = find_best_option_mmnl(p, S)\n",
    "    best_S = sorted(S)\n",
    "    return max_profit, best_S"
   ]
  },
  {
   "cell_type": "code",
   "execution_count": 48,
   "id": "29f64c00",
   "metadata": {},
   "outputs": [],
   "source": [
    "import matplotlib.pyplot as plt\n",
    "import math\n",
    "import statistics as st\n",
    "import time"
   ]
  },
  {
   "cell_type": "code",
   "execution_count": 49,
   "id": "8dad2f1f",
   "metadata": {},
   "outputs": [],
   "source": [
    "n_simulations = 1000\n",
    "avg_price = 10\n",
    "std_price = 20\n",
    "#compute prices\n",
    "psim = [0 for k in range(n_simulations)]\n",
    "for k in range(n_simulations):\n",
    "    psim[k] = abs(npr.normal(avg_price, std_price, N))\n",
    "    # p[i] = npr.uniform(0, 2*avg_price, N)\n",
    "    # p[i] = npr.exponential(avg_price, N)\n",
    "    psim[k] = np.round(psim[k], 2)\n",
    "    psim[k] = sorted(psim[k], reverse=True)"
   ]
  },
  {
   "cell_type": "code",
   "execution_count": 50,
   "id": "a5ee432d",
   "metadata": {},
   "outputs": [],
   "source": [
    "# problem solved using the MIP formulation\n",
    "profits_IP = []\n",
    "times_IP = []\n",
    "bestS_IP = []\n",
    "for k in range(n_simulations):\n",
    "    start_time = time.time()\n",
    "    profit, bestS = IP_mmnl(psim[k])\n",
    "    end_time = time.time()\n",
    "    profits_IP.append(profit)\n",
    "    times_IP.append(end_time-start_time)\n",
    "    bestS_IP.append(bestS)\n",
    "avg_time_IP = st.mean(times_IP)"
   ]
  },
  {
   "cell_type": "code",
   "execution_count": 51,
   "id": "08fbd48b",
   "metadata": {},
   "outputs": [],
   "source": [
    "# problem solved using the nested formulation\n",
    "profits_nested = []\n",
    "times_nested = []\n",
    "bestS_nested = []\n",
    "for k in range(n_simulations):\n",
    "    start_time = time.time()\n",
    "    profit, bestS = nested_by_price_mmnl(psim[k])\n",
    "    end_time = time.time()\n",
    "    profits_nested.append(profit)\n",
    "    times_nested.append(end_time-start_time)\n",
    "    bestS_nested.append(bestS)\n",
    "avg_time_nested = st.mean(times_nested)"
   ]
  },
  {
   "cell_type": "code",
   "execution_count": 52,
   "id": "c6ae41b2",
   "metadata": {},
   "outputs": [],
   "source": [
    "# problem solved using the greedy formulation\n",
    "profits_greedy = []\n",
    "times_greedy = []\n",
    "bestS_greedy = []\n",
    "for k in range(n_simulations):\n",
    "    start_time = time.time()\n",
    "    profit, bestS = greedy_mmnl(psim[k])\n",
    "    end_time = time.time()\n",
    "    profits_greedy.append(profit)\n",
    "    times_greedy.append(end_time-start_time)\n",
    "    bestS_greedy.append(bestS)\n",
    "avg_time_greedy = st.mean(times_greedy)"
   ]
  },
  {
   "cell_type": "code",
   "execution_count": 53,
   "id": "bd717158",
   "metadata": {},
   "outputs": [
    {
     "name": "stdout",
     "output_type": "stream",
     "text": [
      "87 [0] [0, 1] [0, 1]\n",
      "87 [0] [0, 1] [0, 1]\n",
      "148 [0] [0, 1] [0, 1]\n",
      "148 [0] [0, 1] [0, 1]\n",
      "157 [0] [0, 1] [0, 1]\n",
      "157 [0] [0, 1] [0, 1]\n",
      "183 [0] [0, 1] [0, 1]\n",
      "183 [0] [0, 1] [0, 1]\n",
      "267 [0] [0, 1] [0, 1]\n",
      "267 [0] [0, 1] [0, 1]\n",
      "526 [0] [0, 1] [0, 1]\n",
      "526 [0] [0, 1] [0, 1]\n",
      "719 [0] [0, 1] [0, 1]\n",
      "719 [0] [0, 1] [0, 1]\n",
      "789 [0] [0, 1] [0, 1]\n",
      "789 [0] [0, 1] [0, 1]\n",
      "811 [0] [0, 1] [0, 1]\n",
      "811 [0] [0, 1] [0, 1]\n",
      "864 [0] [0, 1] [0, 1]\n",
      "864 [0] [0, 1] [0, 1]\n",
      "910 [0, 2] [0, 1, 2] [0, 1, 2]\n",
      "910 [0, 2] [0, 1, 2] [0, 1, 2]\n"
     ]
    }
   ],
   "source": [
    "# counting how many instances are different\n",
    "count_nested = 0\n",
    "different_results_nested = []\n",
    "count_greedy = 0\n",
    "different_results_greedy = []\n",
    "for k in range(n_simulations):\n",
    "    if bestS_IP[k] != bestS_greedy[k]:\n",
    "        count_greedy += 100/n_simulations\n",
    "        different_results_greedy.append(100*profits_greedy[k]/profits_IP[k])\n",
    "        print(k, bestS_IP[k], bestS_greedy[k], bestS_nested[k])\n",
    "    if bestS_IP[k] != bestS_nested[k]:\n",
    "        count_nested += 100/n_simulations\n",
    "        different_results_nested.append(100*profits_nested[k]/profits_IP[k])\n",
    "        print(k, bestS_IP[k], bestS_greedy[k], bestS_nested[k])"
   ]
  },
  {
   "cell_type": "code",
   "execution_count": 54,
   "id": "32c09ec9",
   "metadata": {},
   "outputs": [
    {
     "name": "stdout",
     "output_type": "stream",
     "text": [
      "The greedy algorithm is different from the MIP in 1.0999999999999999 of the instances with an average ratio of 100.00621913400529% and a minimum ratio of 100.000474430689% and an average time of 2.7790546417236328e-05 seconds\n",
      "The nested algorithm is different from the MIP in 1.0999999999999999 of the instances with an average ratio of 100.00621913400528% and a minimum ratio of 100.000474430689% and an average time of 2.118706703186035e-05 seconds\n"
     ]
    }
   ],
   "source": [
    "if different_results_greedy != []:\n",
    "  print('The greedy algorithm is different from the MIP in ' + str(count_greedy) + ' of the instances' , \\\n",
    "        'with an average ratio of ' + str(st.mean(different_results_greedy)) + '%', \\\n",
    "              'and a minimum ratio of ' + str(min(different_results_greedy)) + '%', \\\n",
    "                'and an average time of ' + str(avg_time_greedy) + ' seconds')\n",
    "if different_results_nested != []:\n",
    "  print('The nested algorithm is different from the MIP in ' + str(count_nested) + ' of the instances', \\\n",
    "        'with an average ratio of ' + str(st.mean(different_results_nested)) + '%', \\\n",
    "              'and a minimum ratio of ' + str(min(different_results_nested)) + '%', \n",
    "                'and an average time of ' + str(avg_time_nested) + ' seconds')"
   ]
  },
  {
   "cell_type": "code",
   "execution_count": 62,
   "id": "53fc9da3",
   "metadata": {},
   "outputs": [
    {
     "data": {
      "text/plain": [
       "(18.66905940594059, [0, 1])"
      ]
     },
     "execution_count": 62,
     "metadata": {},
     "output_type": "execute_result"
    }
   ],
   "source": [
    "brute_force(psim[87])\n"
   ]
  },
  {
   "cell_type": "code",
   "execution_count": 70,
   "id": "49da5318",
   "metadata": {},
   "outputs": [
    {
     "name": "stdout",
     "output_type": "stream",
     "text": [
      "Gurobi Optimizer version 9.0.3 build v9.0.3rc0 (win64)\n",
      "Optimize a model with 13 rows, 7 columns and 34 nonzeros\n",
      "Model fingerprint: 0x9dcd672d\n",
      "Variable types: 4 continuous, 3 integer (3 binary)\n",
      "Coefficient statistics:\n",
      "  Matrix range     [1e-02, 4e+02]\n",
      "  Objective range  [1e+00, 1e+00]\n",
      "  Bounds range     [1e+00, 4e+02]\n",
      "  RHS range        [3e+02, 4e+02]\n",
      "Found heuristic solution: objective -0.0000000\n",
      "Presolve time: 0.00s\n",
      "Presolved: 13 rows, 7 columns, 34 nonzeros\n",
      "Variable types: 4 continuous, 3 integer (3 binary)\n",
      "\n",
      "Root relaxation: objective 1.880219e+02, 10 iterations, 0.00 seconds\n",
      "\n",
      "    Nodes    |    Current Node    |     Objective Bounds      |     Work\n",
      " Expl Unexpl |  Obj  Depth IntInf | Incumbent    BestBd   Gap | It/Node Time\n",
      "\n",
      "     0     0   44.15812    0    3   -0.00000   44.15812      -     -    0s\n",
      "H    0     0                       3.4269652   44.15812  1189%     -    0s\n",
      "H    0     0                      18.6674129   44.15812   137%     -    0s\n",
      "     0     0   18.66906    0    3   18.66741   18.66906  0.01%     -    0s\n",
      "\n",
      "Cutting planes:\n",
      "  Gomory: 1\n",
      "  Implied bound: 2\n",
      "  RLT: 5\n",
      "\n",
      "Explored 1 nodes (22 simplex iterations) in 0.01 seconds\n",
      "Thread count was 12 (of 12 available processors)\n",
      "\n",
      "Solution count 3: 18.6674 3.42697 -0 \n",
      "\n",
      "Optimal solution found (tolerance 1.00e-04)\n",
      "Best objective 1.866741293532e+01, best bound 1.866905940594e+01, gap 0.0088%\n",
      "Optimal objective: 18.6674\n",
      "z[0] = 18.6674\n",
      "y[0] = 1\n",
      "y[1] = -0\n",
      "y[2] = -0\n",
      "x[0,0] = 18.4826\n",
      "x[1,0] = 0\n",
      "x[2,0] = 0\n",
      "[37.15, 19.0, 6.82]\n"
     ]
    }
   ],
   "source": [
    "p = psim[87]\n",
    "#create a new model\n",
    "model = gp.Model(\"IP_mmnl\")\n",
    "\n",
    "B = 10*max(p)\n",
    "# create decision variables and store them in the arrays z, x, y\n",
    "z = model.addVars(M, vtype=gp.GRB.CONTINUOUS, lb =-np.infty, ub = B, name=\"z\")\n",
    "x = model.addVars(N, M, vtype=gp.GRB.CONTINUOUS, lb=-np.infty, ub = B, name=\"x\")\n",
    "y = model.addVars(N, vtype=gp.GRB.BINARY, name=\"y\")\n",
    "model.update()\n",
    "\n",
    "# set objective function\n",
    "objExpr = gp.LinExpr()\n",
    "for j in range(M):\n",
    "    objExpr += theta[j] * z[j]\n",
    "model.setObjective(objExpr, gp.GRB.MAXIMIZE)\n",
    "model.update()\n",
    "\n",
    "# add constraints\n",
    "# model.addConstr(lhs = y[1], sense = gp.GRB.EQUAL, rhs = 1, name = 'y')\n",
    "for j in range(M):\n",
    "    myConstr = gp.LinExpr()\n",
    "    for i in range(N):\n",
    "        myConstr += v[i][j] * x[i, j]\n",
    "        model.addConstr(lhs = x[i, j], sense = gp.GRB.LESS_EQUAL, rhs = y[i]*B, name = \"xa_\" + str(i) + '_' + str(j))\n",
    "        model.addConstr(lhs = x[i, j], sense = gp.GRB.GREATER_EQUAL, rhs = -y[i]*B, name = \"xb_\" + str(i) + '_' + str(j))\n",
    "        model.addConstr(lhs = x[i, j], sense = gp.GRB.GREATER_EQUAL, rhs = p[i] - z[j] - (1-y[i])*B, name = \"xc_\" + str(i) + '_' + str(j))\n",
    "        model.addConstr(lhs = x[i, j], sense = gp.GRB.LESS_EQUAL, rhs = p[i] - z[j] + (1-y[i])*B, name = \"xd_\" + str(i) + '_' + str(j))\n",
    "    model.addConstr(lhs = z[j], sense = gp.GRB.EQUAL, rhs = myConstr, name = \"z_\" + str(j))\n",
    "model.update()\n",
    "\n",
    "# write model \n",
    "model.write(\"IP_mmnl.lp\")\n",
    "\n",
    "# solve model\n",
    "# model.Params.OutputFlag = 0\n",
    "model.optimize()\n",
    "\n",
    "# print solution\n",
    "if model.status == gp.GRB.OPTIMAL:\n",
    "    print('Optimal objective: %g' % model.objVal)\n",
    "    for j in range(M):\n",
    "        print('z[' + str(j) + '] = %g' % z[j].x)\n",
    "    for i in range(N):\n",
    "        print('y[' + str(i) + '] = %g' % y[i].x)\n",
    "    for i in range(N):\n",
    "        for j in range(M):\n",
    "            print('x[' + str(i) + ',' + str(j) + '] = %g' % x[i, j].x)\n",
    "else:\n",
    "    print('No solution')\n",
    "print(p)"
   ]
  },
  {
   "cell_type": "code",
   "execution_count": null,
   "id": "1c35cd66",
   "metadata": {},
   "outputs": [],
   "source": []
  }
 ],
 "metadata": {
  "kernelspec": {
   "display_name": "GAAP",
   "language": "python",
   "name": "python3"
  },
  "language_info": {
   "codemirror_mode": {
    "name": "ipython",
    "version": 3
   },
   "file_extension": ".py",
   "mimetype": "text/x-python",
   "name": "python",
   "nbconvert_exporter": "python",
   "pygments_lexer": "ipython3",
   "version": "3.7.16"
  },
  "vscode": {
   "interpreter": {
    "hash": "808b68e8c7f41400243e141156863e12fdf8189e6aeebe351602b6095ef30b98"
   }
  }
 },
 "nbformat": 4,
 "nbformat_minor": 5
}
