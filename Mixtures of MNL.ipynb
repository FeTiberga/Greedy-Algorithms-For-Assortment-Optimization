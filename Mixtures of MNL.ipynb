{
 "cells": [
  {
   "cell_type": "markdown",
   "id": "ba865321",
   "metadata": {},
   "source": [
    "# MNL"
   ]
  },
  {
   "cell_type": "code",
   "execution_count": 11,
   "id": "64ed992a",
   "metadata": {},
   "outputs": [],
   "source": [
    "import gurobipy as gp"
   ]
  },
  {
   "cell_type": "code",
   "execution_count": 12,
   "id": "4c4c2424",
   "metadata": {},
   "outputs": [
    {
     "name": "stdout",
     "output_type": "stream",
     "text": [
      "[[16.00590565]\n",
      " [37.35371385]\n",
      " [97.13054119]\n",
      " [35.3836815 ]\n",
      " [64.36849053]]\n"
     ]
    }
   ],
   "source": [
    "import numpy as np\n",
    "import numpy.random as npr\n",
    "N = 5 #25 #25 50 75 100\n",
    "M = 1 #1 5 10 20\n",
    "v = 100*npr.rand(N, M)\n",
    "theta = 1/M * np.ones(M)\n",
    "print(v)"
   ]
  },
  {
   "cell_type": "code",
   "execution_count": 13,
   "id": "48c874f0",
   "metadata": {},
   "outputs": [],
   "source": [
    "def IP_mmnl(p):\n",
    "    global v, N\n",
    "    global theta, M\n",
    "\n",
    "    #create a new model\n",
    "    myModel = gp.Model(\"IP_mmnl\")\n",
    "\n",
    "    # create decision variables and store them in the arrays z, x, y\n",
    "    z = [0 for j in range(M)]\n",
    "    x = [[0 for j in range(M)] for i in range(N)]\n",
    "    y = [0 for i in range(N)]\n",
    "    for j in range(M):\n",
    "        newVar = myModel.addVar(vtype = gp.GRB.CONTINUOUS, lb = 0, name = \"z_\" + str(j))\n",
    "        z[j] = newVar\n",
    "        for i in range(N):\n",
    "            newVarx = myModel.addVar(vtype = gp.GRB.CONTINUOUS, lb = 0, name = \"x_\" + str(i) + '_' + str(j))\n",
    "            x[i][j] = newVarx\n",
    "    for i in range(N):\n",
    "        newVar = myModel.addVar(vtype = gp.GRB.BINARY, name = \"y_\" + str(i))\n",
    "        y[i] = newVar\n",
    "    myModel.update()\n",
    "\n",
    "    # set objective function\n",
    "    objExpr = gp.LinExpr()\n",
    "    for j in range(M):\n",
    "        objExpr += theta[j] * z[j]\n",
    "    myModel.setObjective(objExpr, gp.GRB.MAXIMIZE)\n",
    "\n",
    "    B = 100*max(p)\n",
    "    # add constraints\n",
    "    for j in range(M):\n",
    "        myConstr = gp.LinExpr()\n",
    "        for i in range(N):\n",
    "            myConstr += v[i][j] * x[i][j]\n",
    "            myModel.addConstr(lhs = x[i][j], sense = gp.GRB.LESS_EQUAL, rhs = y[i]*B, name = \"x 1st constraint_\" + str(i) + '_' + str(j))\n",
    "            myModel.addConstr(lhs = x[i][j], sense = gp.GRB.GREATER_EQUAL, rhs = v[i][j] - z[j] - (1-y[i])*B, name = \"x 2nd constraint_\" + str(i) + '_' + str(j))\n",
    "            myModel.addConstr(lhs = x[i][j], sense = gp.GRB.LESS_EQUAL, rhs = v[i][j] - z[j] + (1-y[i])*B, name = \"x 3rd constraint_\" + str(i) + '_' + str(j))\n",
    "        myModel.addConstr(lhs = z[j], sense = gp.GRB.LESS_EQUAL, rhs = myConstr, name = \"z \" + str(j))\n",
    "\n",
    "    # solve model\n",
    "    myModel.optimize()\n",
    "\n",
    "    bestS = []\n",
    "    profit = float(myModel.objVal)\n",
    "    for i in range(N):\n",
    "        if y[i].x == 1:\n",
    "            bestS.append(i)\n",
    "    bestS = sorted(bestS)\n",
    "    return profit, bestS"
   ]
  },
  {
   "cell_type": "code",
   "execution_count": 14,
   "id": "86c5aad9",
   "metadata": {},
   "outputs": [],
   "source": [
    "def profit_mmnl(p, S):\n",
    "    global v\n",
    "    global theta, M\n",
    "    pi = 0\n",
    "    for j in range(M):\n",
    "        Vj_S = 0\n",
    "        num = 0\n",
    "        for i in S:\n",
    "            num += p[i]*v[i][j]\n",
    "            Vj_S += v[i][j]\n",
    "        pi += theta[j]*num/(1+Vj_S)\n",
    "    return pi"
   ]
  },
  {
   "cell_type": "code",
   "execution_count": 15,
   "id": "6e93ca6b",
   "metadata": {},
   "outputs": [],
   "source": [
    "def nested_by_price_mmnl(p):\n",
    "    global N\n",
    "    profits = [0 for i in range(N+1)]\n",
    "    S = []\n",
    "    for i in range(N):\n",
    "        S.append(i)\n",
    "        profits[i+1] = profit_mmnl(p, S)\n",
    "    best_S = [i for i in range(np.argmax(profits))]\n",
    "    return max(profits), best_S"
   ]
  },
  {
   "cell_type": "code",
   "execution_count": 16,
   "id": "3865843a",
   "metadata": {},
   "outputs": [],
   "source": [
    "def find_best_option_mmnl(p, S):\n",
    "    global v, N\n",
    "    current_best = profit_mmnl(p, S)\n",
    "    bestS = S\n",
    "    flag = 0\n",
    "    N_S = [k for k in range(N) if k not in S]\n",
    "    for k in N_S:\n",
    "        newS = S + [k]\n",
    "        if profit_mmnl(p, newS) >= current_best:\n",
    "            flag = 1\n",
    "            bestS = newS\n",
    "            current_best = profit_mmnl(p, newS)\n",
    "    return current_best, bestS, flag\n",
    "\n",
    "def greedy_mmnl(p):\n",
    "    global v, N\n",
    "    max_profit = -1\n",
    "    best_S = []\n",
    "    S = []\n",
    "    flag = 1\n",
    "    while flag==1:\n",
    "        max_profit, S, flag = find_best_option_mmnl(p, S)\n",
    "    best_S = sorted(S)\n",
    "    return max_profit, best_S"
   ]
  },
  {
   "cell_type": "code",
   "execution_count": 17,
   "id": "29f64c00",
   "metadata": {},
   "outputs": [],
   "source": [
    "import matplotlib.pyplot as plt\n",
    "import math\n",
    "import statistics as st\n",
    "import time"
   ]
  },
  {
   "cell_type": "code",
   "execution_count": 18,
   "id": "8dad2f1f",
   "metadata": {},
   "outputs": [
    {
     "ename": "TypeError",
     "evalue": "abs() takes exactly one argument (2 given)",
     "output_type": "error",
     "traceback": [
      "\u001b[1;31m---------------------------------------------------------------------------\u001b[0m",
      "\u001b[1;31mTypeError\u001b[0m                                 Traceback (most recent call last)",
      "\u001b[1;32m~\\AppData\\Local\\Temp\\ipykernel_56752\\3483592443.py\u001b[0m in \u001b[0;36m<module>\u001b[1;34m\u001b[0m\n\u001b[0;32m      5\u001b[0m \u001b[0mp\u001b[0m \u001b[1;33m=\u001b[0m \u001b[1;33m[\u001b[0m\u001b[1;36m0\u001b[0m \u001b[1;32mfor\u001b[0m \u001b[0mi\u001b[0m \u001b[1;32min\u001b[0m \u001b[0mrange\u001b[0m\u001b[1;33m(\u001b[0m\u001b[0mn_simulations\u001b[0m\u001b[1;33m)\u001b[0m\u001b[1;33m]\u001b[0m\u001b[1;33m\u001b[0m\u001b[1;33m\u001b[0m\u001b[0m\n\u001b[0;32m      6\u001b[0m \u001b[1;32mfor\u001b[0m \u001b[0mi\u001b[0m \u001b[1;32min\u001b[0m \u001b[0mrange\u001b[0m\u001b[1;33m(\u001b[0m\u001b[0mn_simulations\u001b[0m\u001b[1;33m)\u001b[0m\u001b[1;33m:\u001b[0m\u001b[1;33m\u001b[0m\u001b[1;33m\u001b[0m\u001b[0m\n\u001b[1;32m----> 7\u001b[1;33m     \u001b[0mp\u001b[0m\u001b[1;33m[\u001b[0m\u001b[0mi\u001b[0m\u001b[1;33m]\u001b[0m \u001b[1;33m=\u001b[0m \u001b[0mabs\u001b[0m\u001b[1;33m(\u001b[0m\u001b[0mnpr\u001b[0m\u001b[1;33m.\u001b[0m\u001b[0mnormal\u001b[0m\u001b[1;33m(\u001b[0m\u001b[0mavg_price\u001b[0m\u001b[1;33m,\u001b[0m \u001b[0mstd_price\u001b[0m\u001b[1;33m)\u001b[0m\u001b[1;33m,\u001b[0m \u001b[0mN\u001b[0m\u001b[1;33m)\u001b[0m\u001b[1;33m\u001b[0m\u001b[1;33m\u001b[0m\u001b[0m\n\u001b[0m\u001b[0;32m      8\u001b[0m     \u001b[1;31m# p[i] = npr.uniform(0, 2*avg_price, N)\u001b[0m\u001b[1;33m\u001b[0m\u001b[1;33m\u001b[0m\u001b[1;33m\u001b[0m\u001b[0m\n\u001b[0;32m      9\u001b[0m     \u001b[1;31m# p[i] = npr.exponential(avg_price, N)\u001b[0m\u001b[1;33m\u001b[0m\u001b[1;33m\u001b[0m\u001b[1;33m\u001b[0m\u001b[0m\n",
      "\u001b[1;31mTypeError\u001b[0m: abs() takes exactly one argument (2 given)"
     ]
    }
   ],
   "source": [
    "n_simulations = 10000\n",
    "avg_price = 100\n",
    "std_price = 50\n",
    "#compute prices\n",
    "p = [0 for i in range(n_simulations)]\n",
    "for i in range(n_simulations):\n",
    "    p[i] = abs(npr.normal(avg_price, std_price, N))\n",
    "    # p[i] = npr.uniform(0, 2*avg_price, N)\n",
    "    # p[i] = npr.exponential(avg_price, N)"
   ]
  },
  {
   "cell_type": "code",
   "execution_count": null,
   "id": "a5ee432d",
   "metadata": {},
   "outputs": [
    {
     "name": "stdout",
     "output_type": "stream",
     "text": [
      "Using license file C:\\Users\\ftibe\\gurobi.lic\n",
      "Academic license - for non-commercial use only\n"
     ]
    },
    {
     "ename": "TypeError",
     "evalue": "'float' object is not iterable",
     "output_type": "error",
     "traceback": [
      "\u001b[1;31m---------------------------------------------------------------------------\u001b[0m",
      "\u001b[1;31mTypeError\u001b[0m                                 Traceback (most recent call last)",
      "\u001b[1;32m~\\AppData\\Local\\Temp\\ipykernel_56752\\3003570841.py\u001b[0m in \u001b[0;36m<module>\u001b[1;34m\u001b[0m\n\u001b[0;32m      2\u001b[0m \u001b[1;32mfor\u001b[0m \u001b[0mi\u001b[0m \u001b[1;32min\u001b[0m \u001b[0mrange\u001b[0m\u001b[1;33m(\u001b[0m\u001b[0mn_simulations\u001b[0m\u001b[1;33m)\u001b[0m\u001b[1;33m:\u001b[0m\u001b[1;33m\u001b[0m\u001b[1;33m\u001b[0m\u001b[0m\n\u001b[0;32m      3\u001b[0m     \u001b[0mstart_time\u001b[0m \u001b[1;33m=\u001b[0m \u001b[0mtime\u001b[0m\u001b[1;33m.\u001b[0m\u001b[0mtime\u001b[0m\u001b[1;33m(\u001b[0m\u001b[1;33m)\u001b[0m\u001b[1;33m\u001b[0m\u001b[1;33m\u001b[0m\u001b[0m\n\u001b[1;32m----> 4\u001b[1;33m     \u001b[0mprofit\u001b[0m\u001b[1;33m,\u001b[0m \u001b[0mbestS\u001b[0m \u001b[1;33m=\u001b[0m \u001b[0mIP_mmnl\u001b[0m\u001b[1;33m(\u001b[0m\u001b[0mp\u001b[0m\u001b[1;33m[\u001b[0m\u001b[0mi\u001b[0m\u001b[1;33m]\u001b[0m\u001b[1;33m)\u001b[0m\u001b[1;33m\u001b[0m\u001b[1;33m\u001b[0m\u001b[0m\n\u001b[0m\u001b[0;32m      5\u001b[0m     \u001b[0mend_time\u001b[0m \u001b[1;33m=\u001b[0m \u001b[0mtime\u001b[0m\u001b[1;33m.\u001b[0m\u001b[0mtime\u001b[0m\u001b[1;33m(\u001b[0m\u001b[1;33m)\u001b[0m\u001b[1;33m\u001b[0m\u001b[1;33m\u001b[0m\u001b[0m\n\u001b[0;32m      6\u001b[0m     \u001b[1;32mif\u001b[0m \u001b[0mi\u001b[0m \u001b[1;33m==\u001b[0m \u001b[1;36m0\u001b[0m\u001b[1;33m:\u001b[0m\u001b[1;33m\u001b[0m\u001b[1;33m\u001b[0m\u001b[0m\n",
      "\u001b[1;32m~\\AppData\\Local\\Temp\\ipykernel_56752\\3564842011.py\u001b[0m in \u001b[0;36mIP_mmnl\u001b[1;34m(p)\u001b[0m\n\u001b[0;32m     27\u001b[0m     \u001b[0mmyModel\u001b[0m\u001b[1;33m.\u001b[0m\u001b[0msetObjective\u001b[0m\u001b[1;33m(\u001b[0m\u001b[0mobjExpr\u001b[0m\u001b[1;33m,\u001b[0m \u001b[0mgp\u001b[0m\u001b[1;33m.\u001b[0m\u001b[0mGRB\u001b[0m\u001b[1;33m.\u001b[0m\u001b[0mMAXIMIZE\u001b[0m\u001b[1;33m)\u001b[0m\u001b[1;33m\u001b[0m\u001b[1;33m\u001b[0m\u001b[0m\n\u001b[0;32m     28\u001b[0m \u001b[1;33m\u001b[0m\u001b[0m\n\u001b[1;32m---> 29\u001b[1;33m     \u001b[0mB\u001b[0m \u001b[1;33m=\u001b[0m \u001b[1;36m100\u001b[0m\u001b[1;33m*\u001b[0m\u001b[0mmax\u001b[0m\u001b[1;33m(\u001b[0m\u001b[0mp\u001b[0m\u001b[1;33m)\u001b[0m\u001b[1;33m\u001b[0m\u001b[1;33m\u001b[0m\u001b[0m\n\u001b[0m\u001b[0;32m     30\u001b[0m     \u001b[1;31m# add constraints\u001b[0m\u001b[1;33m\u001b[0m\u001b[1;33m\u001b[0m\u001b[1;33m\u001b[0m\u001b[0m\n\u001b[0;32m     31\u001b[0m     \u001b[1;32mfor\u001b[0m \u001b[0mj\u001b[0m \u001b[1;32min\u001b[0m \u001b[0mrange\u001b[0m\u001b[1;33m(\u001b[0m\u001b[0mM\u001b[0m\u001b[1;33m)\u001b[0m\u001b[1;33m:\u001b[0m\u001b[1;33m\u001b[0m\u001b[1;33m\u001b[0m\u001b[0m\n",
      "\u001b[1;31mTypeError\u001b[0m: 'float' object is not iterable"
     ]
    }
   ],
   "source": [
    "# problem solved using the MIP formulation\n",
    "for i in range(n_simulations):\n",
    "    start_time = time.time()\n",
    "    profit, bestS = IP_mmnl(p[i])\n",
    "    end_time = time.time()\n",
    "    if i == 0:\n",
    "        profits_IP = [profit]\n",
    "        times_IP = [end_time-start_time]\n",
    "    else:\n",
    "        profits_IP.append(profit)\n",
    "        times_IP.append(end_time-start_time)\n",
    "avg_time_IP = st.mean(times_IP)"
   ]
  },
  {
   "cell_type": "code",
   "execution_count": null,
   "id": "08fbd48b",
   "metadata": {},
   "outputs": [],
   "source": [
    "# problem solved using the nested formulation\n",
    "for i in range(n_simulations):\n",
    "    start_time = time.time()\n",
    "    profit, bestS = nested_by_price_mmnl(p[i])\n",
    "    end_time = time.time()\n",
    "    if i == 0:\n",
    "        profits_nested = [profit]\n",
    "        times_nested = [end_time-start_time]\n",
    "    else:\n",
    "        profits_nested.append(profit)\n",
    "        times_nested.append(end_time-start_time)\n",
    "avg_time_nested = st.mean(times_nested)"
   ]
  },
  {
   "cell_type": "code",
   "execution_count": null,
   "id": "c6ae41b2",
   "metadata": {},
   "outputs": [],
   "source": [
    "# problem solved using the greedy formulation\n",
    "for i in range(n_simulations):\n",
    "    start_time = time.time()\n",
    "    profit, bestS = greedy_mmnl(p[i])\n",
    "    end_time = time.time()\n",
    "    if i == 0:\n",
    "        profits_greedy = [profit]\n",
    "        times_greedy = [end_time-start_time]\n",
    "    else:\n",
    "        profits_greedy.append(profit)\n",
    "        times_greedy.append(end_time-start_time)\n",
    "avg_time_greedy = st.mean(times_greedy)"
   ]
  },
  {
   "cell_type": "code",
   "execution_count": null,
   "id": "bd717158",
   "metadata": {},
   "outputs": [],
   "source": [
    "# counting how many instances are different\n",
    "count_nested = 0\n",
    "different_results_nested = []\n",
    "count_greedy = 0\n",
    "different_results_greedy = []\n",
    "for i in range(n_simulations):\n",
    "    if profits_IP[i] != profits_greedy[i]:\n",
    "        count_greedy += 100/n_simulations\n",
    "        different_results_greedy.append(100*profits_greedy[i]/profits_IP[i])\n",
    "    if profits_IP[i] != profits_nested[i]:\n",
    "        count_nested += 100/n_simulations\n",
    "        different_results_nested.append(100*profits_nested[i]/profits_IP[i])\n",
    "print('The greedy algorithm is different from the MIP in ' + str(count_greedy) + ' of the instances, \\\n",
    "        with an average ratio of ' + str(st.mean(different_results_greedy)) + '%', \\\n",
    "              'and a minimum ratio of ' + str(min(different_results_greedy)) + '%', \\\n",
    "                'and an average time of ' + str(avg_time_greedy) + ' seconds')\n",
    "print('The nested algorithm is different from the MIP in ' + str(count_nested) + ' of the instances, \\\n",
    "        with an average ratio of ' + str(st.mean(different_results_nested)) + '%', \\\n",
    "              'and a minimum ratio of ' + str(min(different_results_nested)) + '%', \n",
    "                'and an average time of ' + str(avg_time_nested) + ' seconds')\n"
   ]
  }
 ],
 "metadata": {
  "kernelspec": {
   "display_name": "GAAP",
   "language": "python",
   "name": "python3"
  },
  "language_info": {
   "codemirror_mode": {
    "name": "ipython",
    "version": 3
   },
   "file_extension": ".py",
   "mimetype": "text/x-python",
   "name": "python",
   "nbconvert_exporter": "python",
   "pygments_lexer": "ipython3",
   "version": "3.7.16"
  },
  "vscode": {
   "interpreter": {
    "hash": "808b68e8c7f41400243e141156863e12fdf8189e6aeebe351602b6095ef30b98"
   }
  }
 },
 "nbformat": 4,
 "nbformat_minor": 5
}
