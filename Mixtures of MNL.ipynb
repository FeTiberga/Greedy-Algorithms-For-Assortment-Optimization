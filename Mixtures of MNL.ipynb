{
 "cells": [
  {
   "attachments": {},
   "cell_type": "markdown",
   "id": "ba865321",
   "metadata": {},
   "source": [
    "# Mixtures of MNLs"
   ]
  },
  {
   "cell_type": "code",
   "execution_count": 6,
   "id": "64ed992a",
   "metadata": {},
   "outputs": [],
   "source": [
    "import gurobipy as gp"
   ]
  },
  {
   "cell_type": "code",
   "execution_count": 7,
   "id": "4c4c2424",
   "metadata": {},
   "outputs": [
    {
     "name": "stdout",
     "output_type": "stream",
     "text": [
      "[[0.1  0.01 0.03 0.04 0.04]\n",
      " [0.1  0.08 0.05 0.13 0.03]\n",
      " [0.01 0.04 0.13 0.08 0.05]\n",
      " [0.1  0.22 0.2  0.17 0.1 ]\n",
      " [0.01 0.26 0.06 0.29 0.05]\n",
      " [0.05 0.06 0.09 0.03 0.33]\n",
      " [0.35 0.38 0.08 0.07 0.32]\n",
      " [0.43 0.01 0.09 0.44 0.4 ]\n",
      " [0.4  0.06 0.08 0.43 0.06]\n",
      " [0.08 0.47 0.5  0.04 0.51]\n",
      " [0.57 0.09 0.59 0.57 0.08]\n",
      " [0.02 0.56 0.63 0.04 0.03]\n",
      " [0.02 0.64 0.63 0.04 0.66]\n",
      " [0.04 0.07 0.69 0.71 0.73]\n",
      " [0.05 0.02 0.72 0.73 0.03]\n",
      " [0.08 0.01 0.79 0.07 0.05]\n",
      " [0.08 0.87 0.84 0.04 0.02]\n",
      " [0.03 0.03 0.06 0.08 0.93]\n",
      " [0.96 0.99 0.95 0.91 0.02]\n",
      " [0.01 1.03 0.98 1.   0.96]\n",
      " [0.04 1.03 1.01 1.07 1.04]\n",
      " [0.02 0.04 1.15 0.07 1.1 ]\n",
      " [1.14 0.09 1.2  0.08 1.16]\n",
      " [0.04 0.05 0.01 0.1  0.03]\n",
      " [1.24 1.22 0.01 1.23 0.03]]\n",
      "[0.44449005431625477, 0.104624694483056, 0.18975838387569455, 0.18633658929251798, 0.07479027803247656]\n"
     ]
    }
   ],
   "source": [
    "import numpy as np\n",
    "import numpy.random as npr\n",
    "seed = 1\n",
    "rng = npr.default_rng(seed)\n",
    "N = 25 #25 35\n",
    "M = 5 #5 10 20\n",
    "v = np.zeros((N,M))\n",
    "# v = rng.uniform(0.5, 1.5, (N,M))\n",
    "for i in range(N):\n",
    "    for j in range(M):\n",
    "        utility = rng.integers(0, 2)*i*0.05 + rng.random()*0.1\n",
    "        v[i, j] = max(round(utility, 2), 0.01)\n",
    "theta = list(np.random.dirichlet(np.ones(M), size=1)[0])\n",
    "print(v)\n",
    "print(theta)"
   ]
  },
  {
   "cell_type": "code",
   "execution_count": 8,
   "id": "48c874f0",
   "metadata": {},
   "outputs": [],
   "source": [
    "def IP_mmnl(p):\n",
    "    global v, N\n",
    "    global theta, M\n",
    "\n",
    "    #create a new model\n",
    "    model = gp.Model(\"IP_mmnl\")\n",
    "\n",
    "    B = 10*max(p)\n",
    "    # create decision variables and store them in the arrays z, x, y\n",
    "    z = model.addVars(M, vtype=gp.GRB.CONTINUOUS, ub = B, name=\"z\")\n",
    "    x = model.addVars(N, M, vtype=gp.GRB.CONTINUOUS, lb=-np.infty, ub = B, name=\"x\")\n",
    "    y = model.addVars(N, vtype=gp.GRB.BINARY, name=\"y\")\n",
    "    model.update()\n",
    "\n",
    "    # set objective function\n",
    "    objExpr = gp.LinExpr()\n",
    "    for j in range(M):\n",
    "        objExpr += theta[j] * z[j]\n",
    "    model.setObjective(objExpr, gp.GRB.MAXIMIZE)\n",
    "    model.update()\n",
    "\n",
    "    # add constraints\n",
    "    for j in range(M):\n",
    "        myConstr = gp.LinExpr()\n",
    "        for i in range(N):\n",
    "            myConstr += v[i][j] * x[i, j]\n",
    "            model.addConstr(lhs = x[i, j], sense = gp.GRB.LESS_EQUAL, rhs = y[i]*B, name = \"xa_\" + str(i) + '_' + str(j))\n",
    "            model.addConstr(lhs = x[i, j], sense = gp.GRB.GREATER_EQUAL, rhs = -y[i]*B, name = \"xb_\" + str(i) + '_' + str(j))\n",
    "            model.addConstr(lhs = x[i, j], sense = gp.GRB.GREATER_EQUAL, rhs = p[i] - z[j] - (1-y[i])*B, name = \"xc_\" + str(i) + '_' + str(j))\n",
    "            model.addConstr(lhs = x[i, j], sense = gp.GRB.LESS_EQUAL, rhs = p[i] - z[j] + (1-y[i])*B, name = \"xd_\" + str(i) + '_' + str(j))\n",
    "        model.addConstr(lhs = z[j], sense = gp.GRB.LESS_EQUAL, rhs = myConstr, name = \"z_\" + str(j))\n",
    "    model.update()\n",
    "\n",
    "    # write model \n",
    "    model.write(\"IP_mmnl.lp\")\n",
    "\n",
    "    # solve model\n",
    "    model.Params.OutputFlag = 0\n",
    "    model.optimize()\n",
    "    \n",
    "    bestS = []\n",
    "    profit = float(model.objVal)\n",
    "    for i in range(N):\n",
    "        if y[i].x > 0.5:\n",
    "            bestS.append(i)\n",
    "    bestS = sorted(bestS)\n",
    "    return profit, bestS"
   ]
  },
  {
   "cell_type": "code",
   "execution_count": 9,
   "id": "86c5aad9",
   "metadata": {},
   "outputs": [],
   "source": [
    "def profit_mmnl(p, S):\n",
    "    global v\n",
    "    global theta, M\n",
    "    pi = 0\n",
    "    for j in range(M):\n",
    "        Vj_S = 0\n",
    "        num = 0\n",
    "        for i in S:\n",
    "            num += p[i]*v[i][j]\n",
    "            Vj_S += v[i][j]\n",
    "        pi += theta[j]*num/(1+Vj_S)\n",
    "    return pi"
   ]
  },
  {
   "cell_type": "code",
   "execution_count": 10,
   "id": "6affdd46",
   "metadata": {},
   "outputs": [],
   "source": [
    "def brute_force(p):\n",
    "    global N\n",
    "    # compute the profit of each assortment\n",
    "    best_profit = 0\n",
    "    best_S = []\n",
    "    for i in range(2**N):\n",
    "        binary = np.binary_repr(i, width=N)\n",
    "        assortment = [int(x) for x in binary]\n",
    "        S = []\n",
    "        for j in range(N):\n",
    "            if assortment[j] == 1:\n",
    "                S.append(j)\n",
    "        if best_profit < profit_mmnl(p, S):\n",
    "            best_profit = profit_mmnl(p, S)\n",
    "            best_S = S\n",
    "    return best_profit, best_S"
   ]
  },
  {
   "cell_type": "code",
   "execution_count": 11,
   "id": "6e93ca6b",
   "metadata": {},
   "outputs": [],
   "source": [
    "def nested_by_price_mmnl(p):\n",
    "    global N\n",
    "    profits = [0 for i in range(N)]\n",
    "    S = []\n",
    "    for i in range(N):\n",
    "        S.append(i)\n",
    "        profits[i] = profit_mmnl(p, S)\n",
    "    best_S = [i for i in range(np.argmax(profits)+1)]\n",
    "    return max(profits), best_S"
   ]
  },
  {
   "cell_type": "code",
   "execution_count": 12,
   "id": "3865843a",
   "metadata": {},
   "outputs": [],
   "source": [
    "def find_best_option_mmnl(p, S):\n",
    "    global v, N\n",
    "    current_best = profit_mmnl(p, S)\n",
    "    bestS = S\n",
    "    flag = 0\n",
    "    N_S = [k for k in range(N) if k not in S]\n",
    "    for k in N_S:\n",
    "        newS = S + [k]\n",
    "        if profit_mmnl(p, newS) >= current_best:\n",
    "            flag = 1\n",
    "            bestS = newS\n",
    "            current_best = profit_mmnl(p, newS)\n",
    "    return current_best, bestS, flag\n",
    "\n",
    "def greedy_mmnl(p):\n",
    "    global v, N\n",
    "    max_profit = -1\n",
    "    best_S = []\n",
    "    S = []\n",
    "    flag = 1\n",
    "    while flag==1:\n",
    "        max_profit, S, flag = find_best_option_mmnl(p, S)\n",
    "    best_S = sorted(S)\n",
    "    return max_profit, best_S"
   ]
  },
  {
   "cell_type": "code",
   "execution_count": 13,
   "id": "29f64c00",
   "metadata": {},
   "outputs": [],
   "source": [
    "import statistics as st\n",
    "import time\n",
    "import math"
   ]
  },
  {
   "cell_type": "code",
   "execution_count": 14,
   "id": "8dad2f1f",
   "metadata": {},
   "outputs": [],
   "source": [
    "n_simulations = 25\n",
    "avg_price = 12\n",
    "seed = 1\n",
    "rng = npr.default_rng(seed)\n",
    "#compute prices\n",
    "psim = [0 for k in range(n_simulations)]\n",
    "for k in range(n_simulations):\n",
    "    # psim[k] = abs(rng.normal(avg_price, avg_price, N))\n",
    "    psim[k] = rng.uniform(avg_price - math.sqrt(3*avg_price), avg_price + math.sqrt(3*avg_price), N)\n",
    "    # psim[k] = rng.exponential(avg_price, N)\n",
    "    psim[k] = np.round(psim[k], 2)\n",
    "    psim[k] = sorted(psim[k], reverse=True)"
   ]
  },
  {
   "cell_type": "code",
   "execution_count": 15,
   "id": "a5ee432d",
   "metadata": {},
   "outputs": [
    {
     "name": "stdout",
     "output_type": "stream",
     "text": [
      "Using license file C:\\Users\\ftibe\\gurobi.lic\n",
      "Academic license - for non-commercial use only\n",
      "0\n"
     ]
    }
   ],
   "source": [
    "# problem solved using the MIP formulation\n",
    "profits_IP = []\n",
    "times_IP = []\n",
    "bestS_IP = []\n",
    "\n",
    "for k in range(n_simulations):\n",
    "\n",
    "    start_time = time.time()\n",
    "    profit, bestS = IP_mmnl(psim[k])\n",
    "    end_time = time.time()\n",
    "    if k % 10 == 0:\n",
    "        print(k)\n",
    "\n",
    "    profits_IP.append(profit)\n",
    "    times_IP.append(end_time-start_time)\n",
    "    bestS_IP.append(bestS)\n",
    "    \n",
    "avg_time_IP = st.mean(times_IP)"
   ]
  },
  {
   "cell_type": "code",
   "execution_count": null,
   "id": "08fbd48b",
   "metadata": {},
   "outputs": [],
   "source": [
    "# problem solved using the nested formulation\n",
    "profits_nested = []\n",
    "times_nested = []\n",
    "bestS_nested = []\n",
    "\n",
    "for k in range(n_simulations):\n",
    "\n",
    "    start_time = time.time()\n",
    "    profit, bestS = nested_by_price_mmnl(psim[k])\n",
    "    end_time = time.time()\n",
    "\n",
    "    profits_nested.append(profit)\n",
    "    times_nested.append(end_time-start_time)\n",
    "    bestS_nested.append(bestS)\n",
    "    \n",
    "avg_time_nested = st.mean(times_nested)"
   ]
  },
  {
   "cell_type": "code",
   "execution_count": null,
   "id": "c6ae41b2",
   "metadata": {},
   "outputs": [],
   "source": [
    "# problem solved using the greedy formulation\n",
    "profits_greedy = []\n",
    "times_greedy = []\n",
    "bestS_greedy = []\n",
    "\n",
    "for k in range(n_simulations):\n",
    "\n",
    "    start_time = time.time()\n",
    "    profit, bestS = greedy_mmnl(psim[k])\n",
    "    end_time = time.time()\n",
    "\n",
    "    profits_greedy.append(profit)\n",
    "    times_greedy.append(end_time-start_time)\n",
    "    bestS_greedy.append(bestS)\n",
    "    \n",
    "avg_time_greedy = st.mean(times_greedy)"
   ]
  },
  {
   "cell_type": "code",
   "execution_count": null,
   "id": "bd717158",
   "metadata": {},
   "outputs": [
    {
     "name": "stdout",
     "output_type": "stream",
     "text": [
      "10 [0, 1, 2, 3, 4, 5, 6, 7, 8, 9, 10, 11, 12, 13, 14, 15, 16, 17, 18, 19, 20] [0, 1, 2, 3, 4, 5, 6, 7, 8, 9, 10, 11, 12, 13, 14, 15, 16, 17, 18, 19, 20, 22] [0, 1, 2, 3, 4, 5, 6, 7, 8, 9, 10, 11, 12, 13, 14, 15, 16, 17, 18, 19, 20]\n",
      "14 [0, 1, 2, 3, 4, 5, 6, 7, 8, 9, 10, 11, 12, 13] [0, 1, 2, 3, 4, 5, 6, 7, 8, 9, 10, 11, 12, 13, 14, 15] [0, 1, 2, 3, 4, 5, 6, 7, 8, 9, 10, 11, 12, 13]\n",
      "26 [0, 1, 2, 3, 4, 5, 6, 7, 8, 9, 10, 11, 12, 13, 17] [0, 1, 2, 3, 4, 5, 6, 7, 8, 9, 10, 11, 12, 13, 14, 15, 16, 17, 22] [0, 1, 2, 3, 4, 5, 6, 7, 8, 9, 10, 11, 12, 13, 14]\n",
      "26 [0, 1, 2, 3, 4, 5, 6, 7, 8, 9, 10, 11, 12, 13, 17] [0, 1, 2, 3, 4, 5, 6, 7, 8, 9, 10, 11, 12, 13, 14, 15, 16, 17, 22] [0, 1, 2, 3, 4, 5, 6, 7, 8, 9, 10, 11, 12, 13, 14]\n",
      "27 [0, 1, 2, 3, 4, 5, 6, 7, 8, 9, 10, 11, 12, 13, 14, 15, 17] [0, 1, 2, 3, 4, 5, 6, 7, 8, 9, 10, 11, 12, 13, 14, 15, 17] [0, 1, 2, 3, 4, 5, 6, 7, 8, 9, 10, 11, 12, 13, 14, 15, 16, 17]\n",
      "31 [0, 1, 2, 3, 4, 5, 6, 7, 8, 9, 10, 11, 12, 13, 14, 15, 16] [0, 1, 2, 3, 4, 5, 6, 7, 8, 9, 10, 11, 12, 13, 14, 15, 16, 22] [0, 1, 2, 3, 4, 5, 6, 7, 8, 9, 10, 11, 12, 13, 14, 15, 16]\n",
      "33 [0, 1, 2, 3, 4, 5, 6, 7, 8, 9, 10, 11, 12] [0, 1, 2, 3, 4, 5, 6, 7, 8, 9, 10, 11, 12, 13, 22] [0, 1, 2, 3, 4, 5, 6, 7, 8, 9, 10, 11, 12]\n",
      "36 [0, 1, 2, 3, 4, 5, 6, 7, 8, 9, 10, 11, 12, 13, 14, 17] [0, 1, 2, 3, 4, 5, 6, 7, 8, 9, 10, 11, 12, 13, 14, 17] [0, 1, 2, 3, 4, 5, 6, 7, 8, 9, 10, 11, 12, 13, 14]\n",
      "45 [0, 1, 2, 3, 4, 5, 6, 7, 8, 9, 10, 11, 12, 13, 14, 15, 16, 17, 18, 19] [0, 1, 2, 3, 4, 5, 6, 7, 8, 9, 10, 11, 12, 13, 14, 15, 16, 17, 18, 19, 20] [0, 1, 2, 3, 4, 5, 6, 7, 8, 9, 10, 11, 12, 13, 14, 15, 16, 17, 18, 19]\n",
      "61 [0, 1, 2, 3, 4, 5, 6, 7, 8, 9, 10, 11, 12, 13] [0, 1, 2, 3, 4, 5, 6, 7, 8, 9, 10, 11, 12, 13, 15] [0, 1, 2, 3, 4, 5, 6, 7, 8, 9, 10, 11, 12, 13]\n",
      "73 [0, 1, 2, 3, 4, 5, 6, 7, 8, 9, 10, 11, 12, 13] [0, 1, 2, 3, 4, 5, 6, 7, 8, 9, 10, 11, 12, 13, 14, 15, 22] [0, 1, 2, 3, 4, 5, 6, 7, 8, 9, 10, 11, 12, 13]\n",
      "77 [0, 1, 2, 3, 4, 5, 6, 7, 8, 9, 10, 11, 12, 13, 14, 15, 17] [0, 1, 2, 3, 4, 5, 6, 7, 8, 9, 10, 11, 12, 13, 14, 15, 17] [0, 1, 2, 3, 4, 5, 6, 7, 8, 9, 10, 11, 12, 13, 14, 15, 16, 17]\n"
     ]
    }
   ],
   "source": [
    "# counting how many instances are different\n",
    "count_nested = 0\n",
    "different_results_nested = []\n",
    "count_greedy = 0\n",
    "different_results_greedy = []\n",
    "\n",
    "for k in range(n_simulations):\n",
    "    if bestS_IP[k] != bestS_greedy[k]:\n",
    "        count_greedy += 100/n_simulations\n",
    "        different_results_greedy.append(100*profits_greedy[k]/profits_IP[k])\n",
    "        print(k, bestS_IP[k], bestS_greedy[k], bestS_nested[k])\n",
    "        \n",
    "    if bestS_IP[k] != bestS_nested[k]:\n",
    "        count_nested += 100/n_simulations\n",
    "        different_results_nested.append(100*profits_nested[k]/profits_IP[k])\n",
    "        print(k, bestS_IP[k], bestS_greedy[k], bestS_nested[k])"
   ]
  },
  {
   "cell_type": "code",
   "execution_count": null,
   "id": "32c09ec9",
   "metadata": {},
   "outputs": [
    {
     "name": "stdout",
     "output_type": "stream",
     "text": [
      "DR_g =  8.0\n",
      "Min_g = 94.6905617255551\n",
      "Mean_g = 97.98578754875614\n",
      "t_g = 0.5173629409018269\n",
      "\n",
      "\n",
      "DR_n =  4.0\n",
      "Min_n = 99.89315427781176\n",
      "Mean_n = 99.9694772999673\n",
      "t_n = 0.05793071645052765\n"
     ]
    }
   ],
   "source": [
    "if different_results_greedy != []:\n",
    "    print(' & ' + str(count_greedy) + ' & ' + str(round(min(different_results_greedy), 2)) \\\n",
    "          + ' & ' + str(round(st.mean(different_results_greedy),2)) \\\n",
    "            + ' & ' + str(round(avg_time_greedy, 2)))\n",
    "else:\n",
    "    print(' & 0 & NA & NA & ' + str(round(avg_time_greedy, 2)))\n",
    "\n",
    "print('\\n')\n",
    "\n",
    "if different_results_nested != []:\n",
    "    print(' & ' + str(count_nested) + ' & ' + str(round(min(different_results_nested), 2)) \\\n",
    "          + ' & ' + str(round(st.mean(different_results_nested),2)) \\\n",
    "            + ' & ' + str(round(avg_time_nested, 2)))\n",
    "else:\n",
    "    print(' & 0 & NA & NA & ' + str(round(avg_time_nested, 2)))"
   ]
  },
  {
   "cell_type": "code",
   "execution_count": null,
   "id": "53fc9da3",
   "metadata": {},
   "outputs": [],
   "source": [
    "# brute_force(psim[87])\n"
   ]
  },
  {
   "cell_type": "code",
   "execution_count": null,
   "id": "1c35cd66",
   "metadata": {},
   "outputs": [],
   "source": []
  }
 ],
 "metadata": {
  "kernelspec": {
   "display_name": "GAAP",
   "language": "python",
   "name": "python3"
  },
  "language_info": {
   "codemirror_mode": {
    "name": "ipython",
    "version": 3
   },
   "file_extension": ".py",
   "mimetype": "text/x-python",
   "name": "python",
   "nbconvert_exporter": "python",
   "pygments_lexer": "ipython3",
   "version": "3.7.16"
  },
  "vscode": {
   "interpreter": {
    "hash": "808b68e8c7f41400243e141156863e12fdf8189e6aeebe351602b6095ef30b98"
   }
  }
 },
 "nbformat": 4,
 "nbformat_minor": 5
}
