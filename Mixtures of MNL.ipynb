{
 "cells": [
  {
   "cell_type": "markdown",
   "id": "ba865321",
   "metadata": {},
   "source": [
    "# MNL"
   ]
  },
  {
   "cell_type": "code",
   "execution_count": 105,
   "id": "64ed992a",
   "metadata": {},
   "outputs": [],
   "source": [
    "import gurobipy as gp"
   ]
  },
  {
   "cell_type": "code",
   "execution_count": 3,
   "id": "4c4c2424",
   "metadata": {},
   "outputs": [
    {
     "name": "stdout",
     "output_type": "stream",
     "text": [
      "[[13.35170255 46.54432254 56.86309786 21.43202943 73.25531198 89.61114077\n",
      "  80.45322793 97.57676508 38.72627304 67.54168511 88.61789608  5.93492513\n",
      "  74.41367756 95.32468076 17.32079351 47.01134686 18.05619512 91.17590391\n",
      "  37.8239436  34.95089283 39.51128514 67.05584336 44.62500172 44.5396566\n",
      "  96.94684023]\n",
      " [22.465747   53.15715345 94.02010377 18.74348167  1.97805115 27.65164466\n",
      "  38.46822225 55.14946082 94.81690982 34.47206892 32.25299884 63.90109366\n",
      "  67.31036667 95.42802791 69.91624882 54.57853732 64.63762812 97.8988863\n",
      "  34.16496855 94.42493106 52.03287149 61.97525742 45.90526387 49.95355367\n",
      "  32.31934383]\n",
      " [63.91802611 66.81594589 59.06751052 95.15870299 63.72479788 28.03990218\n",
      "  75.80984036 17.08077104 75.2957967  14.21096738 52.2339305  11.50023091\n",
      "  78.59377966 49.610435   75.79626528 66.57691743  9.8855433  51.61604771\n",
      "  88.99052397 63.01238607  1.25931594 96.5984755  50.45638244 16.32675665\n",
      "  30.39300627]\n",
      " [95.58900548 24.50573101 22.4891079  49.00396766 92.98559169 72.36546581\n",
      "  23.56135043  8.38852043  8.39088829 60.75679696 51.47726134 45.34004044\n",
      "  18.36455091 50.7266656  33.50187833  6.84366511 86.61479053 64.07775133\n",
      "   8.80038186 96.46671842 61.48372121 29.8169643  20.53259495 40.98686902\n",
      "   4.57396712]\n",
      " [98.61291026 53.45903502 32.37430391 31.47138559 56.26919835 94.73576889\n",
      "  22.86251763 85.23724159 42.94736057 21.50105837 49.41602837 12.21876918\n",
      "  60.68351388 91.58755058 71.67720921 14.73894889 45.7290649  62.92898032\n",
      "  66.50331486 38.55820149  2.67516359 79.8841839  98.12882602 68.78539839\n",
      "  22.39520243]]\n"
     ]
    }
   ],
   "source": [
    "import numpy as np\n",
    "import numpy.random as npr\n",
    "N = 25 #25 50 75 100\n",
    "M = 1 #1 5 10 20\n",
    "v = 100*npr.rand(M, N)\n",
    "alpha = 1/M * np.ones(M)\n",
    "print(v)"
   ]
  },
  {
   "cell_type": "code",
   "execution_count": 1,
   "id": "48c874f0",
   "metadata": {},
   "outputs": [],
   "source": [
    "def IP_mmnl(p):\n",
    "    global v, N\n",
    "    global theta, M\n",
    "\n",
    "    #create a new model\n",
    "    myModel = gp.Model(\"IP_mmnl\")\n",
    "\n",
    "    # create decision variables and store them in the arrays z, x, y\n",
    "    z = [0 for j in range(M)]\n",
    "    x = [[0 for i in range(N)] for j in range(M)]\n",
    "    y = [0 for i in range(N)]\n",
    "    for j in range(M):\n",
    "        newVar = myModel.addVar(vtype = gp.GRB.CONTINUOUS, lb = 0, name = \"z_\" + str(j))\n",
    "        z[j] = newVar\n",
    "        for i in range(N):\n",
    "            newVarx = myModel.addVar(vtype = gp.GRB.CONTINUOUS, lb = 0, name = \"x_\" + str(i) + '_' + str(j))\n",
    "            x[i][j] = newVarx\n",
    "    for i in range(N):\n",
    "        newVar = myModel.addVar(vtype = gp.GRB.BINARY, name = \"y_\" + str(i))\n",
    "        y[i] = newVar\n",
    "    myModel.update()\n",
    "\n",
    "    # set objective function\n",
    "    objExpr = gp.LinExpr()\n",
    "    for j in range(M):\n",
    "        objExpr += theta[j] * z[j]\n",
    "    myModel.setObjective(objExpr, gp.GRB.MAXIMIZE)\n",
    "\n",
    "    B = 100*max(p)\n",
    "    # add constraints\n",
    "    for j in range(M):\n",
    "        myConstr = gp.LinExpr()\n",
    "        for i in range(N):\n",
    "            myConstr += v[i][j] * x[i][j]\n",
    "            myModel.addConstr(lhs = x[i][j], sense = gp.GRB.LESS_EQUAL, rhs = y[i]*B, name = \"x 1st constraint_\" + str(i) + '_' + str(j))\n",
    "            myModel.addConstr(lhs = x[i][j], sense = gp.GRB.GREATER_EQUAL, rhs = v[i][j] - z[j] - (1-y[i])*B, name = \"x 2nd constraint_\" + str(i) + '_' + str(j))\n",
    "            myModel.addConstr(lhs = x[i][j], sense = gp.GRB.LESS_EQUAL, rhs = v[i][j] - z[j] + (1-y[i])*B, name = \"x 3rd constraint_\" + str(i) + '_' + str(j))\n",
    "        myModel.addConstr(lhs = z[j], sense = gp.GRB.LESS_EQUAL, rhs = myConstr, name = \"z \" + str(j))\n",
    "\n",
    "    # solve model\n",
    "    myModel.optimize()\n",
    "\n",
    "    bestS = []\n",
    "    profit = float(myModel.objVal)\n",
    "    for i in range(N):\n",
    "        if y[i].x == 1:\n",
    "            bestS.append(i)\n",
    "    bestS = sorted(bestS)\n",
    "    return profit, bestS"
   ]
  },
  {
   "cell_type": "code",
   "execution_count": 108,
   "id": "86c5aad9",
   "metadata": {},
   "outputs": [],
   "source": [
    "def profit_mmnl(p, S):\n",
    "    global v\n",
    "    global theta, M\n",
    "    pi = 0\n",
    "    for j in range(M):\n",
    "        Vj_S = 0\n",
    "        num = 0\n",
    "        for i in S:\n",
    "            num += p[i]*v[i][j]\n",
    "            Vj_S += v[i][j]\n",
    "        pi += theta[j]*num/(1+Vj_S)\n",
    "    return pi"
   ]
  },
  {
   "cell_type": "code",
   "execution_count": 109,
   "id": "6e93ca6b",
   "metadata": {},
   "outputs": [],
   "source": [
    "def nested_by_price_mmnl(p):\n",
    "    global N\n",
    "    profits = [0 for i in range(N+1)]\n",
    "    S = []\n",
    "    for i in range(N):\n",
    "        S.append(i)\n",
    "        profits[i+1] = profit_mmnl(p, S)\n",
    "    best_S = [i for i in range(np.argmax(profits))]\n",
    "    return max(profits), best_S"
   ]
  },
  {
   "cell_type": "code",
   "execution_count": 110,
   "id": "3865843a",
   "metadata": {},
   "outputs": [],
   "source": [
    "def find_best_option_mmnl(p, S):\n",
    "    global v, N\n",
    "    current_best = profit_mmnl(p, S)\n",
    "    bestS = S\n",
    "    flag = 0\n",
    "    N_S = [k for k in range(N) if k not in S]\n",
    "    for k in N_S:\n",
    "        newS = S + [k]\n",
    "        if profit_mmnl(p, newS) >= current_best:\n",
    "            flag = 1\n",
    "            bestS = newS\n",
    "            current_best = profit_mmnl(p, newS)\n",
    "    return current_best, bestS, flag\n",
    "\n",
    "def greedy_mmnl(p):\n",
    "    global v, N\n",
    "    max_profit = -1\n",
    "    best_S = []\n",
    "    S = []\n",
    "    flag = 1\n",
    "    while flag==1:\n",
    "        max_profit, S, flag = find_best_option_mmnl(p, S)\n",
    "    best_S = sorted(S)\n",
    "    return max_profit, best_S"
   ]
  },
  {
   "cell_type": "code",
   "execution_count": 111,
   "id": "29f64c00",
   "metadata": {},
   "outputs": [],
   "source": [
    "import matplotlib.pyplot as plt\n",
    "import math\n",
    "import statistics as st\n",
    "import time"
   ]
  },
  {
   "cell_type": "code",
   "execution_count": 112,
   "id": "8dad2f1f",
   "metadata": {},
   "outputs": [],
   "source": [
    "n_simulations = 10000\n",
    "avg_price = 100\n",
    "std_price = 50"
   ]
  },
  {
   "cell_type": "code",
   "execution_count": 113,
   "id": "5589d9e9",
   "metadata": {},
   "outputs": [
    {
     "name": "stdout",
     "output_type": "stream",
     "text": [
      "Gurobi Optimizer version 9.0.3 build v9.0.3rc0 (win64)\n",
      "Optimize a model with 130 rows, 130 columns and 380 nonzeros\n",
      "Model fingerprint: 0x2b4bb09f\n",
      "Coefficient statistics:\n",
      "  Matrix range     [1e+00, 1e+02]\n",
      "  Objective range  [2e-01, 2e-01]\n",
      "  Bounds range     [0e+00, 0e+00]\n",
      "  RHS range        [1e+00, 3e+02]\n",
      "Presolve time: 0.00s\n",
      "Presolved: 130 rows, 130 columns, 380 nonzeros\n",
      "\n",
      "Iteration    Objective       Primal Inf.    Dual Inf.      Time\n",
      "       0    0.0000000e+00   8.969701e+03   0.000000e+00      0s\n",
      "      24    2.8963698e+02   0.000000e+00   0.000000e+00      0s\n",
      "\n",
      "Solved in 24 iterations and 0.01 seconds\n",
      "Optimal objective  2.896369776e+02\n"
     ]
    },
    {
     "ename": "IndexError",
     "evalue": "list index out of range",
     "output_type": "error",
     "traceback": [
      "\u001b[1;31m---------------------------------------------------------------------------\u001b[0m",
      "\u001b[1;31mIndexError\u001b[0m                                Traceback (most recent call last)",
      "\u001b[1;32m~\\AppData\\Local\\Temp\\ipykernel_162996\\888733984.py\u001b[0m in \u001b[0;36m<module>\u001b[1;34m\u001b[0m\n\u001b[0;32m      6\u001b[0m     \u001b[0mp\u001b[0m \u001b[1;33m=\u001b[0m \u001b[0msorted\u001b[0m\u001b[1;33m(\u001b[0m\u001b[0mp\u001b[0m\u001b[1;33m,\u001b[0m \u001b[0mreverse\u001b[0m \u001b[1;33m=\u001b[0m \u001b[1;32mTrue\u001b[0m\u001b[1;33m)\u001b[0m\u001b[1;33m\u001b[0m\u001b[1;33m\u001b[0m\u001b[0m\n\u001b[0;32m      7\u001b[0m     \u001b[0mgr\u001b[0m \u001b[1;33m=\u001b[0m \u001b[0mgreedy_mmnl\u001b[0m\u001b[1;33m(\u001b[0m\u001b[0mp\u001b[0m\u001b[1;33m)\u001b[0m\u001b[1;33m\u001b[0m\u001b[1;33m\u001b[0m\u001b[0m\n\u001b[1;32m----> 8\u001b[1;33m     \u001b[0mmipl\u001b[0m \u001b[1;33m=\u001b[0m \u001b[0mIP_mmnl\u001b[0m\u001b[1;33m(\u001b[0m\u001b[0mp\u001b[0m\u001b[1;33m)\u001b[0m\u001b[1;33m\u001b[0m\u001b[1;33m\u001b[0m\u001b[0m\n\u001b[0m\u001b[0;32m      9\u001b[0m     \u001b[0mresult_g\u001b[0m\u001b[1;33m[\u001b[0m\u001b[0mi\u001b[0m\u001b[1;33m]\u001b[0m \u001b[1;33m=\u001b[0m \u001b[1;36m100\u001b[0m\u001b[1;33m*\u001b[0m\u001b[0mgr\u001b[0m\u001b[1;33m[\u001b[0m\u001b[1;36m0\u001b[0m\u001b[1;33m]\u001b[0m\u001b[1;33m/\u001b[0m\u001b[0mmipl\u001b[0m\u001b[1;33m[\u001b[0m\u001b[1;36m0\u001b[0m\u001b[1;33m]\u001b[0m\u001b[1;33m\u001b[0m\u001b[1;33m\u001b[0m\u001b[0m\n\u001b[0;32m     10\u001b[0m     \u001b[1;32mif\u001b[0m \u001b[0mgr\u001b[0m\u001b[1;33m[\u001b[0m\u001b[1;36m1\u001b[0m\u001b[1;33m]\u001b[0m \u001b[1;33m!=\u001b[0m \u001b[0mmipl\u001b[0m\u001b[1;33m:\u001b[0m\u001b[1;33m\u001b[0m\u001b[1;33m\u001b[0m\u001b[0m\n",
      "\u001b[1;32m~\\AppData\\Local\\Temp\\ipykernel_162996\\3456448808.py\u001b[0m in \u001b[0;36mIP_mmnl\u001b[1;34m(p)\u001b[0m\n\u001b[0;32m     45\u001b[0m     \u001b[0mprofit\u001b[0m \u001b[1;33m=\u001b[0m \u001b[0mfloat\u001b[0m\u001b[1;33m(\u001b[0m\u001b[0mmyModel\u001b[0m\u001b[1;33m.\u001b[0m\u001b[0mobjVal\u001b[0m\u001b[1;33m)\u001b[0m\u001b[1;33m\u001b[0m\u001b[1;33m\u001b[0m\u001b[0m\n\u001b[0;32m     46\u001b[0m     \u001b[1;32mfor\u001b[0m \u001b[0mj\u001b[0m \u001b[1;32min\u001b[0m \u001b[0mrange\u001b[0m\u001b[1;33m(\u001b[0m\u001b[0mN\u001b[0m\u001b[1;33m)\u001b[0m\u001b[1;33m:\u001b[0m\u001b[1;33m\u001b[0m\u001b[1;33m\u001b[0m\u001b[0m\n\u001b[1;32m---> 47\u001b[1;33m         \u001b[1;32mif\u001b[0m \u001b[0mall\u001b[0m\u001b[1;33m(\u001b[0m\u001b[0mval\u001b[0m\u001b[1;33m.\u001b[0m\u001b[0mx\u001b[0m \u001b[1;33m!=\u001b[0m \u001b[1;36m0\u001b[0m \u001b[1;32mfor\u001b[0m \u001b[0mval\u001b[0m \u001b[1;32min\u001b[0m \u001b[0mx\u001b[0m\u001b[1;33m[\u001b[0m\u001b[1;33m:\u001b[0m\u001b[1;33m]\u001b[0m\u001b[1;33m[\u001b[0m\u001b[0mj\u001b[0m\u001b[1;33m]\u001b[0m\u001b[1;33m)\u001b[0m\u001b[1;33m:\u001b[0m\u001b[1;33m\u001b[0m\u001b[1;33m\u001b[0m\u001b[0m\n\u001b[0m\u001b[0;32m     48\u001b[0m             \u001b[0mprint\u001b[0m\u001b[1;33m(\u001b[0m\u001b[0mj\u001b[0m\u001b[1;33m)\u001b[0m\u001b[1;33m\u001b[0m\u001b[1;33m\u001b[0m\u001b[0m\n\u001b[0;32m     49\u001b[0m             \u001b[0mbestS\u001b[0m\u001b[1;33m.\u001b[0m\u001b[0mappend\u001b[0m\u001b[1;33m(\u001b[0m\u001b[0mj\u001b[0m\u001b[1;33m)\u001b[0m\u001b[1;33m\u001b[0m\u001b[1;33m\u001b[0m\u001b[0m\n",
      "\u001b[1;31mIndexError\u001b[0m: list index out of range"
     ]
    }
   ],
   "source": [
    "count_g = 0\n",
    "result_g = np.zeros(n_simulations)\n",
    "for i in range(n_simulations):\n",
    "    p = npr.exponential(avg_price, N)\n",
    "    # p = npr.normal(avg_price, std_price, N)\n",
    "    p = sorted(p, reverse = True)\n",
    "    gr = greedy_mmnl(p)\n",
    "    mipl = IP_mmnl(p)\n",
    "    result_g[i] = 100*gr[0]/mipl[0]\n",
    "    count_g+=1\n",
    "    if math.isclose(gr[0], mipl[0], rel_tol=1e-3):\n",
    "        count_g-=1\n",
    "print(count_g)\n",
    "print(min(result_g))\n",
    "print(st.mean(result_g))\n",
    "print(max(result_g))"
   ]
  }
 ],
 "metadata": {
  "kernelspec": {
   "display_name": "GAAP",
   "language": "python",
   "name": "python3"
  },
  "language_info": {
   "codemirror_mode": {
    "name": "ipython",
    "version": 3
   },
   "file_extension": ".py",
   "mimetype": "text/x-python",
   "name": "python",
   "nbconvert_exporter": "python",
   "pygments_lexer": "ipython3",
   "version": "3.7.16"
  },
  "vscode": {
   "interpreter": {
    "hash": "808b68e8c7f41400243e141156863e12fdf8189e6aeebe351602b6095ef30b98"
   }
  }
 },
 "nbformat": 4,
 "nbformat_minor": 5
}
