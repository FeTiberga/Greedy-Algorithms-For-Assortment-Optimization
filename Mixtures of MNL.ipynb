{
 "cells": [
  {
   "cell_type": "markdown",
   "id": "ba865321",
   "metadata": {},
   "source": [
    "# MNL"
   ]
  },
  {
   "cell_type": "code",
   "execution_count": 28,
   "id": "64ed992a",
   "metadata": {},
   "outputs": [],
   "source": [
    "import gurobipy as gp"
   ]
  },
  {
   "cell_type": "code",
   "execution_count": 29,
   "id": "4c4c2424",
   "metadata": {},
   "outputs": [
    {
     "name": "stdout",
     "output_type": "stream",
     "text": [
      "[[54.6109308  87.89964847 98.6692781  27.43971335 43.39721133 18.57141365\n",
      "  49.50383067 84.36347487 90.38320061 75.21006889 65.1782243  56.45384096\n",
      "  53.93783107 11.3805907  38.06441205 53.6791218  75.65793339 22.22320754\n",
      "  54.60998157 64.8724912  21.09152181 97.10189348 35.52809382 65.09875334\n",
      "  88.64476522]\n",
      " [23.33942685  0.96284022 88.49679323 68.42145116  9.63160596 62.36733743\n",
      "  59.10710012 70.20165421 58.4039859  89.19835827  1.86081777 55.67051382\n",
      "  67.20884703 64.18296183 16.30478704 31.68315768 11.31711597 31.27073646\n",
      "  90.09504531 57.29725726  5.47592071 75.01996467 80.96556238 62.43636973\n",
      "  10.05231287]\n",
      " [ 6.89339891 50.85811054 17.57331419 42.18666911 73.89579606 75.06189535\n",
      "  69.01437853 37.89123832 89.36268967 41.69281961 18.2064349  85.70061133\n",
      "  46.60972437 56.54461449 28.02555    46.43258845 46.03721975 53.90689233\n",
      "  74.63310998 93.32295836 72.2040011  74.06308488 17.78814805 40.09278516\n",
      "  43.82396752]\n",
      " [87.65644378 76.07581989 49.6778006  86.09377504 59.14346825 25.1849759\n",
      "  39.03318247 89.21062967 87.13056587 88.48318366 55.10554291  6.97001772\n",
      "  19.66876526 63.25966672 15.99690377  9.12560741 89.43734941 65.09003896\n",
      "  91.8135492  68.24752725 33.75221722 91.96859098 95.21640179 59.93529225\n",
      "  65.04074011]\n",
      " [50.69296052  3.2967065  75.7101324  19.04524783 31.07668175 34.08272419\n",
      "  12.04722365  4.86522375 15.87760745  5.25305752 28.45898281  7.59639033\n",
      "  83.22062018 58.09527332 27.18731195 82.48829667 77.75773209 40.14192786\n",
      "  26.03269797  4.81851121 90.77732493 96.69334624 53.31513104 52.33846013\n",
      "  72.90846654]]\n"
     ]
    }
   ],
   "source": [
    "import numpy as np\n",
    "import numpy.random as npr\n",
    "N = 25 #25 50 75 100\n",
    "M = 5 #5 10 15 20\n",
    "vm = 100*npr.rand(M, N)\n",
    "alpha = 1/M * np.ones(M)\n",
    "print(vm)"
   ]
  },
  {
   "cell_type": "code",
   "execution_count": 30,
   "id": "48c874f0",
   "metadata": {},
   "outputs": [],
   "source": [
    "def IP_mmnl(p):\n",
    "    global vm, N\n",
    "    global alpha, M\n",
    "\n",
    "    #create a new model\n",
    "    myModel = gp.Model(\"IP_mmnl\")\n",
    "\n",
    "    # create decision variables and store them in the arrays z, x, y\n",
    "    z = [0 for i in range(M)]\n",
    "    x = [[0 for j in range(N)] for i in range(M)]\n",
    "    y = [0 for j in range(N)]\n",
    "    for i in range(M):\n",
    "        newVar = myModel.addVar(vtype = gp.GRB.CONTINUOUS, name = \"z_\" + str(i))\n",
    "        z[i] = newVar\n",
    "        for j in range(N):\n",
    "            newVarx = myModel.addVar(vtype = gp.GRB.CONTINUOUS, name = \"x_\" + str(i) + '_' + str(j))\n",
    "            x[i][j] = newVarx\n",
    "    for j in range(N):\n",
    "        newVar = myModel.addVar(vtype = gp.GRB.BINARY, name = \"y_\" + str(j))\n",
    "        y[j] = newVar\n",
    "    myModel.update()\n",
    "\n",
    "    # set objective function\n",
    "    objExpr = gp.LinExpr()\n",
    "    for i in range(M):\n",
    "        objExpr += alpha[i] * z[i]\n",
    "    myModel.setObjective(objExpr, gp.GRB.MINIMIZE)\n",
    "\n",
    "    BM = 1000\n",
    "    # add constraints\n",
    "    for i in range(M):\n",
    "        myConstr = gp.LinExpr()\n",
    "        for j in range(N):\n",
    "            myConstr += vm[i][j] * x[i][j]\n",
    "            myModel.addConstr(lhs = x[i][j], sense = gp.GRB.GREATER_EQUAL, rhs = y[j]*BM, name = \"x 1st constraint_\" + str(i) + '_' + str(j))\n",
    "            myModel.addConstr(lhs = x[i][j], sense = gp.GRB.LESS_EQUAL, rhs = -y[j]*BM, name = \"x 2nd constraint_\" + str(i) + '_' + str(j))\n",
    "            myModel.addConstr(lhs = x[i][j], sense = gp.GRB.GREATER_EQUAL, rhs = p[j] - z[i] - (1-y[j])*BM, name = \"x 3rd constraint_\" + str(i) + '_' + str(j))\n",
    "            myModel.addConstr(lhs = x[i][j], sense = gp.GRB.LESS_EQUAL, rhs = p[j] - z[i] + (1-y[j])*BM, name = \"x 4th constraint_\" + str(i) + '_' + str(j))\n",
    "        myModel.addConstr(lhs = z[i], sense = gp.GRB.GREATER_EQUAL, rhs = myConstr, name = \"z \" + str(i))\n",
    "\n",
    "    # solve model\n",
    "    myModel.optimize()\n",
    "\n",
    "    bestS = []\n",
    "    profit = float(myModel.objVal)\n",
    "    for i in range(M):\n",
    "        if y[j].x == 1:\n",
    "            bestS.append(i)\n",
    "    return profit, bestS"
   ]
  },
  {
   "cell_type": "code",
   "execution_count": 31,
   "id": "86c5aad9",
   "metadata": {},
   "outputs": [],
   "source": [
    "def profit_mmnl(p, S):\n",
    "    global vm\n",
    "    global alpha, M\n",
    "    pi = 0\n",
    "    for i in range(M):\n",
    "        Vi_S = 0\n",
    "        num = 0\n",
    "        for j in S:\n",
    "            num+=p[j]*vm[i][j]\n",
    "            Vi_S+=vm[i][j]\n",
    "        pi += alpha[i]*num/(1+Vi_S)\n",
    "    return pi"
   ]
  },
  {
   "cell_type": "code",
   "execution_count": 32,
   "id": "6e93ca6b",
   "metadata": {},
   "outputs": [],
   "source": [
    "def nested_by_price_mmnl(p):\n",
    "    global vm, N\n",
    "    global alpha, M\n",
    "    max_profit = -1\n",
    "    best_S = []\n",
    "    for k in range(N):\n",
    "        S = [j for j in range(k+1)]\n",
    "        if profit_mmnl(p, S) >= max_profit:\n",
    "            best_S = S\n",
    "            max_profit = profit_mmnl(p, S)\n",
    "    best_S = sorted(best_S)\n",
    "    return max_profit, best_S"
   ]
  },
  {
   "cell_type": "code",
   "execution_count": 33,
   "id": "3865843a",
   "metadata": {},
   "outputs": [],
   "source": [
    "def find_best_option_mmnl(p, S):\n",
    "    global vm, N\n",
    "    current_best = profit_mmnl(p, S)\n",
    "    bestS = S\n",
    "    flag = 0\n",
    "    N_S = [k for k in range(N) if k not in S]\n",
    "    for k in N_S:\n",
    "        newS = S + [k]\n",
    "        if profit_mmnl(p, newS) >= current_best:\n",
    "            flag = 1\n",
    "            bestS = newS\n",
    "            current_best = profit_mmnl(p, newS)\n",
    "    return current_best, bestS, flag\n",
    "\n",
    "def greedy_mmnl(p):\n",
    "    global vm, N\n",
    "    max_profit = -1\n",
    "    best_S = []\n",
    "    S = []\n",
    "    flag = 1\n",
    "    while flag==1:\n",
    "        max_profit, S, flag = find_best_option_mmnl(p, S)\n",
    "    best_S = sorted(S)\n",
    "    return max_profit, best_S"
   ]
  },
  {
   "cell_type": "code",
   "execution_count": 34,
   "id": "29f64c00",
   "metadata": {},
   "outputs": [],
   "source": [
    "import matplotlib.pyplot as plt\n",
    "import math\n",
    "import statistics as st\n",
    "import time"
   ]
  },
  {
   "cell_type": "code",
   "execution_count": 35,
   "id": "8dad2f1f",
   "metadata": {},
   "outputs": [],
   "source": [
    "n_simulations = 10000\n",
    "avg_price = 100\n",
    "std_price = 50"
   ]
  },
  {
   "cell_type": "code",
   "execution_count": 36,
   "id": "5589d9e9",
   "metadata": {},
   "outputs": [
    {
     "ename": "AttributeError",
     "evalue": "module 'gurobipy' has no attribute 'GREATER_EQUAL'",
     "output_type": "error",
     "traceback": [
      "\u001b[1;31m---------------------------------------------------------------------------\u001b[0m",
      "\u001b[1;31mAttributeError\u001b[0m                            Traceback (most recent call last)",
      "\u001b[1;32m~\\AppData\\Local\\Temp\\ipykernel_168788\\2031286011.py\u001b[0m in \u001b[0;36m<module>\u001b[1;34m\u001b[0m\n\u001b[0;32m      6\u001b[0m     \u001b[0mp\u001b[0m \u001b[1;33m=\u001b[0m \u001b[0msorted\u001b[0m\u001b[1;33m(\u001b[0m\u001b[0mp\u001b[0m\u001b[1;33m,\u001b[0m \u001b[0mreverse\u001b[0m \u001b[1;33m=\u001b[0m \u001b[1;32mTrue\u001b[0m\u001b[1;33m)\u001b[0m\u001b[1;33m\u001b[0m\u001b[1;33m\u001b[0m\u001b[0m\n\u001b[0;32m      7\u001b[0m     \u001b[0mgr\u001b[0m \u001b[1;33m=\u001b[0m \u001b[0mgreedy_mmnl\u001b[0m\u001b[1;33m(\u001b[0m\u001b[0mp\u001b[0m\u001b[1;33m)\u001b[0m\u001b[1;33m\u001b[0m\u001b[1;33m\u001b[0m\u001b[0m\n\u001b[1;32m----> 8\u001b[1;33m     \u001b[0mmipl\u001b[0m \u001b[1;33m=\u001b[0m \u001b[0mIP_mmnl\u001b[0m\u001b[1;33m(\u001b[0m\u001b[0mp\u001b[0m\u001b[1;33m)\u001b[0m\u001b[1;33m\u001b[0m\u001b[1;33m\u001b[0m\u001b[0m\n\u001b[0m\u001b[0;32m      9\u001b[0m     \u001b[0mresult_g\u001b[0m\u001b[1;33m[\u001b[0m\u001b[0mi\u001b[0m\u001b[1;33m]\u001b[0m \u001b[1;33m=\u001b[0m \u001b[1;36m100\u001b[0m\u001b[1;33m*\u001b[0m\u001b[0mgr\u001b[0m\u001b[1;33m[\u001b[0m\u001b[1;36m0\u001b[0m\u001b[1;33m]\u001b[0m\u001b[1;33m/\u001b[0m\u001b[0mmipl\u001b[0m\u001b[1;33m[\u001b[0m\u001b[1;36m0\u001b[0m\u001b[1;33m]\u001b[0m\u001b[1;33m\u001b[0m\u001b[1;33m\u001b[0m\u001b[0m\n\u001b[0;32m     10\u001b[0m     \u001b[1;32mif\u001b[0m \u001b[0mgr\u001b[0m\u001b[1;33m[\u001b[0m\u001b[1;36m1\u001b[0m\u001b[1;33m]\u001b[0m \u001b[1;33m!=\u001b[0m \u001b[0mmipl\u001b[0m\u001b[1;33m[\u001b[0m\u001b[1;36m1\u001b[0m\u001b[1;33m]\u001b[0m\u001b[1;33m:\u001b[0m\u001b[1;33m\u001b[0m\u001b[1;33m\u001b[0m\u001b[0m\n",
      "\u001b[1;32m~\\AppData\\Local\\Temp\\ipykernel_168788\\1343615793.py\u001b[0m in \u001b[0;36mIP_mmnl\u001b[1;34m(p)\u001b[0m\n\u001b[0;32m     33\u001b[0m         \u001b[1;32mfor\u001b[0m \u001b[0mj\u001b[0m \u001b[1;32min\u001b[0m \u001b[0mrange\u001b[0m\u001b[1;33m(\u001b[0m\u001b[0mN\u001b[0m\u001b[1;33m)\u001b[0m\u001b[1;33m:\u001b[0m\u001b[1;33m\u001b[0m\u001b[1;33m\u001b[0m\u001b[0m\n\u001b[0;32m     34\u001b[0m             \u001b[0mmyConstr\u001b[0m \u001b[1;33m+=\u001b[0m \u001b[0mvm\u001b[0m\u001b[1;33m[\u001b[0m\u001b[0mi\u001b[0m\u001b[1;33m]\u001b[0m\u001b[1;33m[\u001b[0m\u001b[0mj\u001b[0m\u001b[1;33m]\u001b[0m \u001b[1;33m*\u001b[0m \u001b[0mx\u001b[0m\u001b[1;33m[\u001b[0m\u001b[0mi\u001b[0m\u001b[1;33m]\u001b[0m\u001b[1;33m[\u001b[0m\u001b[0mj\u001b[0m\u001b[1;33m]\u001b[0m\u001b[1;33m\u001b[0m\u001b[1;33m\u001b[0m\u001b[0m\n\u001b[1;32m---> 35\u001b[1;33m             \u001b[0mmyModel\u001b[0m\u001b[1;33m.\u001b[0m\u001b[0maddConstr\u001b[0m\u001b[1;33m(\u001b[0m\u001b[0mlhs\u001b[0m \u001b[1;33m=\u001b[0m \u001b[0mx\u001b[0m\u001b[1;33m[\u001b[0m\u001b[0mi\u001b[0m\u001b[1;33m]\u001b[0m\u001b[1;33m[\u001b[0m\u001b[0mj\u001b[0m\u001b[1;33m]\u001b[0m\u001b[1;33m,\u001b[0m \u001b[0msense\u001b[0m \u001b[1;33m=\u001b[0m \u001b[0mgp\u001b[0m\u001b[1;33m.\u001b[0m\u001b[0mGREATER_EQUAL\u001b[0m\u001b[1;33m,\u001b[0m \u001b[0mrhs\u001b[0m \u001b[1;33m=\u001b[0m \u001b[0my\u001b[0m\u001b[1;33m[\u001b[0m\u001b[0mj\u001b[0m\u001b[1;33m]\u001b[0m\u001b[1;33m*\u001b[0m\u001b[0mBM\u001b[0m\u001b[1;33m,\u001b[0m \u001b[0mname\u001b[0m \u001b[1;33m=\u001b[0m \u001b[1;34m\"x 1st constraint_\"\u001b[0m \u001b[1;33m+\u001b[0m \u001b[0mstr\u001b[0m\u001b[1;33m(\u001b[0m\u001b[0mi\u001b[0m\u001b[1;33m)\u001b[0m \u001b[1;33m+\u001b[0m \u001b[1;34m'_'\u001b[0m \u001b[1;33m+\u001b[0m \u001b[0mstr\u001b[0m\u001b[1;33m(\u001b[0m\u001b[0mj\u001b[0m\u001b[1;33m)\u001b[0m\u001b[1;33m)\u001b[0m\u001b[1;33m\u001b[0m\u001b[1;33m\u001b[0m\u001b[0m\n\u001b[0m\u001b[0;32m     36\u001b[0m             \u001b[0mmyModel\u001b[0m\u001b[1;33m.\u001b[0m\u001b[0maddConstr\u001b[0m\u001b[1;33m(\u001b[0m\u001b[0mlhs\u001b[0m \u001b[1;33m=\u001b[0m \u001b[0mx\u001b[0m\u001b[1;33m[\u001b[0m\u001b[0mi\u001b[0m\u001b[1;33m]\u001b[0m\u001b[1;33m[\u001b[0m\u001b[0mj\u001b[0m\u001b[1;33m]\u001b[0m\u001b[1;33m,\u001b[0m \u001b[0msense\u001b[0m \u001b[1;33m=\u001b[0m \u001b[0mgp\u001b[0m\u001b[1;33m.\u001b[0m\u001b[0mLESS_EQUAL\u001b[0m\u001b[1;33m,\u001b[0m \u001b[0mrhs\u001b[0m \u001b[1;33m=\u001b[0m \u001b[1;33m-\u001b[0m\u001b[0my\u001b[0m\u001b[1;33m[\u001b[0m\u001b[0mj\u001b[0m\u001b[1;33m]\u001b[0m\u001b[1;33m*\u001b[0m\u001b[0mBM\u001b[0m\u001b[1;33m,\u001b[0m \u001b[0mname\u001b[0m \u001b[1;33m=\u001b[0m \u001b[1;34m\"x 2nd constraint_\"\u001b[0m \u001b[1;33m+\u001b[0m \u001b[0mstr\u001b[0m\u001b[1;33m(\u001b[0m\u001b[0mi\u001b[0m\u001b[1;33m)\u001b[0m \u001b[1;33m+\u001b[0m \u001b[1;34m'_'\u001b[0m \u001b[1;33m+\u001b[0m \u001b[0mstr\u001b[0m\u001b[1;33m(\u001b[0m\u001b[0mj\u001b[0m\u001b[1;33m)\u001b[0m\u001b[1;33m)\u001b[0m\u001b[1;33m\u001b[0m\u001b[1;33m\u001b[0m\u001b[0m\n\u001b[0;32m     37\u001b[0m             \u001b[0mmyModel\u001b[0m\u001b[1;33m.\u001b[0m\u001b[0maddConstr\u001b[0m\u001b[1;33m(\u001b[0m\u001b[0mlhs\u001b[0m \u001b[1;33m=\u001b[0m \u001b[0mx\u001b[0m\u001b[1;33m[\u001b[0m\u001b[0mi\u001b[0m\u001b[1;33m]\u001b[0m\u001b[1;33m[\u001b[0m\u001b[0mj\u001b[0m\u001b[1;33m]\u001b[0m\u001b[1;33m,\u001b[0m \u001b[0msense\u001b[0m \u001b[1;33m=\u001b[0m \u001b[0mgp\u001b[0m\u001b[1;33m.\u001b[0m\u001b[0mGREATER_EQUAL\u001b[0m\u001b[1;33m,\u001b[0m \u001b[0mrhs\u001b[0m \u001b[1;33m=\u001b[0m \u001b[0mp\u001b[0m\u001b[1;33m[\u001b[0m\u001b[0mj\u001b[0m\u001b[1;33m]\u001b[0m \u001b[1;33m-\u001b[0m \u001b[0mz\u001b[0m\u001b[1;33m[\u001b[0m\u001b[0mi\u001b[0m\u001b[1;33m]\u001b[0m \u001b[1;33m-\u001b[0m \u001b[1;33m(\u001b[0m\u001b[1;36m1\u001b[0m\u001b[1;33m-\u001b[0m\u001b[0my\u001b[0m\u001b[1;33m[\u001b[0m\u001b[0mj\u001b[0m\u001b[1;33m]\u001b[0m\u001b[1;33m)\u001b[0m\u001b[1;33m*\u001b[0m\u001b[0mBM\u001b[0m\u001b[1;33m,\u001b[0m \u001b[0mname\u001b[0m \u001b[1;33m=\u001b[0m \u001b[1;34m\"x 3rd constraint_\"\u001b[0m \u001b[1;33m+\u001b[0m \u001b[0mstr\u001b[0m\u001b[1;33m(\u001b[0m\u001b[0mi\u001b[0m\u001b[1;33m)\u001b[0m \u001b[1;33m+\u001b[0m \u001b[1;34m'_'\u001b[0m \u001b[1;33m+\u001b[0m \u001b[0mstr\u001b[0m\u001b[1;33m(\u001b[0m\u001b[0mj\u001b[0m\u001b[1;33m)\u001b[0m\u001b[1;33m)\u001b[0m\u001b[1;33m\u001b[0m\u001b[1;33m\u001b[0m\u001b[0m\n",
      "\u001b[1;31mAttributeError\u001b[0m: module 'gurobipy' has no attribute 'GREATER_EQUAL'"
     ]
    }
   ],
   "source": [
    "count_g = 0\n",
    "result_g = np.zeros(n_simulations)\n",
    "for i in range(n_simulations):\n",
    "    p = npr.exponential(avg_price, N)\n",
    "    # p = npr.normal(avg_price, std_price, N)\n",
    "    p = sorted(p, reverse = True)\n",
    "    gr = greedy_mmnl(p)\n",
    "    mipl = IP_mmnl(p)\n",
    "    result_g[i] = 100*gr[0]/mipl[0]\n",
    "    if gr[1] != mipl[1]:\n",
    "        count_g+=1\n",
    "print(count_g)\n",
    "print(min(result_g))\n",
    "print(st.mean(result_g))\n",
    "print(max(result_g))"
   ]
  }
 ],
 "metadata": {
  "kernelspec": {
   "display_name": "GAAP",
   "language": "python",
   "name": "python3"
  },
  "language_info": {
   "codemirror_mode": {
    "name": "ipython",
    "version": 3
   },
   "file_extension": ".py",
   "mimetype": "text/x-python",
   "name": "python",
   "nbconvert_exporter": "python",
   "pygments_lexer": "ipython3",
   "version": "3.7.16"
  },
  "vscode": {
   "interpreter": {
    "hash": "808b68e8c7f41400243e141156863e12fdf8189e6aeebe351602b6095ef30b98"
   }
  }
 },
 "nbformat": 4,
 "nbformat_minor": 5
}
