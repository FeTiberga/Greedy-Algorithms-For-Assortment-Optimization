{
 "cells": [
  {
   "attachments": {},
   "cell_type": "markdown",
   "id": "ba865321",
   "metadata": {},
   "source": [
    "# Mixtures of MNLs"
   ]
  },
  {
   "cell_type": "code",
   "execution_count": 424,
   "id": "64ed992a",
   "metadata": {},
   "outputs": [],
   "source": [
    "import gurobipy as gp"
   ]
  },
  {
   "cell_type": "code",
   "execution_count": 425,
   "id": "4c4c2424",
   "metadata": {},
   "outputs": [],
   "source": [
    "import numpy as np\n",
    "import numpy.random as npr\n",
    "N = 500 #5 #25 50 75 100\n",
    "M = 20 #1 5 10 20\n",
    "v = npr.rand((N+1), M)\n",
    "for j in range(M):\n",
    "    v[:, j] = v[:, j] / v[0, j]\n",
    "v = v[1:][:]\n",
    "theta = list(np.random.dirichlet(np.ones(M), size=1)[0])"
   ]
  },
  {
   "cell_type": "code",
   "execution_count": 426,
   "id": "48c874f0",
   "metadata": {},
   "outputs": [],
   "source": [
    "def IP_mmnl(p):\n",
    "    global v, N\n",
    "    global theta, M\n",
    "\n",
    "    #create a new model\n",
    "    model = gp.Model(\"IP_mmnl\")\n",
    "\n",
    "    # create decision variables and store them in the arrays z, x, y\n",
    "    z = model.addVars(M, vtype=gp.GRB.CONTINUOUS, name=\"z\")\n",
    "    x = model.addVars(N, M, vtype=gp.GRB.CONTINUOUS, lb=0, name=\"x\")\n",
    "    y = model.addVars(N, vtype=gp.GRB.BINARY, name=\"y\")\n",
    "    model.update()\n",
    "\n",
    "    # set objective function\n",
    "    objExpr = gp.LinExpr()\n",
    "    for j in range(M):\n",
    "        objExpr += theta[j] * z[j]\n",
    "    model.setObjective(objExpr, gp.GRB.MAXIMIZE)\n",
    "\n",
    "    B = max(p)\n",
    "    # add constraints\n",
    "    for j in range(M):\n",
    "        myConstr = gp.LinExpr()\n",
    "        for i in range(N):\n",
    "            myConstr += v[i][j] * x[i, j]\n",
    "            model.addConstr(lhs = x[i, j], sense = gp.GRB.LESS_EQUAL, rhs = y[i]*B, name = \"x_1st_constraint_\" + str(i) + '_' + str(j))\n",
    "            model.addConstr(lhs = x[i, j], sense = gp.GRB.GREATER_EQUAL, rhs = p[i] - z[j] - (1-y[i])*B, name = \"x_2nd_constraint_\" + str(i) + '_' + str(j))\n",
    "            model.addConstr(lhs = x[i, j], sense = gp.GRB.LESS_EQUAL, rhs = p[i] - z[j] + (1-y[i])*B, name = \"x_3rd_constraint_\" + str(i) + '_' + str(j))\n",
    "        model.addConstr(lhs = z[j], sense = gp.GRB.LESS_EQUAL, rhs = myConstr, name = \"z_\" + str(j))\n",
    "\n",
    "    # write model \n",
    "    model.write(\"IP_mmnl.lp\")\n",
    "\n",
    "    # solve model\n",
    "    model.Params.OutputFlag = 0\n",
    "    model.optimize()\n",
    "    \n",
    "    bestS = []\n",
    "    profit = float(model.objVal)\n",
    "    for i in range(N):\n",
    "        if y[i].x == 1:\n",
    "            bestS.append(i)\n",
    "    bestS = sorted(bestS)\n",
    "    return profit, bestS"
   ]
  },
  {
   "cell_type": "code",
   "execution_count": 427,
   "id": "86c5aad9",
   "metadata": {},
   "outputs": [],
   "source": [
    "def profit_mmnl(p, S):\n",
    "    global v\n",
    "    global theta, M\n",
    "    pi = 0\n",
    "    for j in range(M):\n",
    "        Vj_S = 0\n",
    "        num = 0\n",
    "        for i in S:\n",
    "            num += p[i]*v[i][j]\n",
    "            Vj_S += v[i][j]\n",
    "        pi += theta[j]*num/(1+Vj_S)\n",
    "    return pi"
   ]
  },
  {
   "cell_type": "code",
   "execution_count": 428,
   "id": "6affdd46",
   "metadata": {},
   "outputs": [],
   "source": [
    "def brute_force(p):\n",
    "    global N\n",
    "    # compute the profit of each assortment\n",
    "    best_profit = 0\n",
    "    best_S = []\n",
    "    for i in range(2**N):\n",
    "        binary = np.binary_repr(i, width=N)\n",
    "        assortment = [int(x) for x in binary]\n",
    "        S = []\n",
    "        for j in range(N):\n",
    "            if assortment[j] == 1:\n",
    "                S.append(j)\n",
    "        if best_profit < profit_mmnl(p, S):\n",
    "            best_profit = profit_mmnl(p, S)\n",
    "            best_S = S\n",
    "    return best_profit, best_S"
   ]
  },
  {
   "cell_type": "code",
   "execution_count": 429,
   "id": "6e93ca6b",
   "metadata": {},
   "outputs": [],
   "source": [
    "def nested_by_price_mmnl(p):\n",
    "    global N\n",
    "    profits = [0 for i in range(N)]\n",
    "    S = []\n",
    "    for i in range(N):\n",
    "        S.append(i)\n",
    "        profits[i] = profit_mmnl(p, S)\n",
    "    best_S = [i for i in range(np.argmax(profits)+1)]\n",
    "    return max(profits), best_S"
   ]
  },
  {
   "cell_type": "code",
   "execution_count": 430,
   "id": "3865843a",
   "metadata": {},
   "outputs": [],
   "source": [
    "def find_best_option_mmnl(p, S):\n",
    "    global v, N\n",
    "    current_best = profit_mmnl(p, S)\n",
    "    bestS = S\n",
    "    flag = 0\n",
    "    N_S = [k for k in range(N) if k not in S]\n",
    "    for k in N_S:\n",
    "        newS = S + [k]\n",
    "        if profit_mmnl(p, newS) >= current_best:\n",
    "            flag = 1\n",
    "            bestS = newS\n",
    "            current_best = profit_mmnl(p, newS)\n",
    "    return current_best, bestS, flag\n",
    "\n",
    "def greedy_mmnl(p):\n",
    "    global v, N\n",
    "    max_profit = -1\n",
    "    best_S = []\n",
    "    S = []\n",
    "    flag = 1\n",
    "    while flag==1:\n",
    "        max_profit, S, flag = find_best_option_mmnl(p, S)\n",
    "    best_S = sorted(S)\n",
    "    return max_profit, best_S"
   ]
  },
  {
   "cell_type": "code",
   "execution_count": 431,
   "id": "29f64c00",
   "metadata": {},
   "outputs": [],
   "source": [
    "import matplotlib.pyplot as plt\n",
    "import math\n",
    "import statistics as st\n",
    "import time"
   ]
  },
  {
   "cell_type": "code",
   "execution_count": 432,
   "id": "8dad2f1f",
   "metadata": {},
   "outputs": [],
   "source": [
    "n_simulations = 1\n",
    "avg_price = 1\n",
    "std_price = 0.5\n",
    "#compute prices\n",
    "psim = [0 for k in range(n_simulations)]\n",
    "for k in range(n_simulations):\n",
    "    psim[k] = abs(npr.normal(avg_price, std_price, N))\n",
    "    # p[i] = npr.uniform(0, 2*avg_price, N)\n",
    "    # p[i] = npr.exponential(avg_price, N)\n",
    "    psim[k] = sorted(psim[k], reverse=True)"
   ]
  },
  {
   "cell_type": "code",
   "execution_count": 433,
   "id": "a5ee432d",
   "metadata": {},
   "outputs": [],
   "source": [
    "# problem solved using the MIP formulation\n",
    "profits_IP = []\n",
    "times_IP = []\n",
    "bestS_IP = []\n",
    "for k in range(n_simulations):\n",
    "    start_time = time.time()\n",
    "    profit, bestS = IP_mmnl(psim[k])\n",
    "    end_time = time.time()\n",
    "    profits_IP.append(profit)\n",
    "    times_IP.append(end_time-start_time)\n",
    "    bestS_IP.append(bestS)\n",
    "avg_time_IP = st.mean(times_IP)"
   ]
  },
  {
   "cell_type": "code",
   "execution_count": 434,
   "id": "08fbd48b",
   "metadata": {},
   "outputs": [],
   "source": [
    "# problem solved using the nested formulation\n",
    "profits_nested = []\n",
    "times_nested = []\n",
    "bestS_nested = []\n",
    "for k in range(n_simulations):\n",
    "    start_time = time.time()\n",
    "    profit, bestS = nested_by_price_mmnl(psim[k])\n",
    "    end_time = time.time()\n",
    "    profits_nested.append(profit)\n",
    "    times_nested.append(end_time-start_time)\n",
    "    bestS_nested.append(bestS)\n",
    "avg_time_nested = st.mean(times_nested)"
   ]
  },
  {
   "cell_type": "code",
   "execution_count": 435,
   "id": "c6ae41b2",
   "metadata": {},
   "outputs": [],
   "source": [
    "# problem solved using the greedy formulation\n",
    "profits_greedy = []\n",
    "times_greedy = []\n",
    "bestS_greedy = []\n",
    "for k in range(n_simulations):\n",
    "    start_time = time.time()\n",
    "    profit, bestS = greedy_mmnl(psim[k])\n",
    "    end_time = time.time()\n",
    "    profits_greedy.append(profit)\n",
    "    times_greedy.append(end_time-start_time)\n",
    "    bestS_greedy.append(bestS)\n",
    "avg_time_greedy = st.mean(times_greedy)"
   ]
  },
  {
   "cell_type": "code",
   "execution_count": 436,
   "id": "bd717158",
   "metadata": {},
   "outputs": [
    {
     "name": "stdout",
     "output_type": "stream",
     "text": [
      "[[0, 1, 2, 3, 4, 5, 6, 7, 8, 9, 10, 11]] [[0, 1, 2, 3, 4, 5, 6, 7, 8, 9, 10, 11]]\n",
      "[[0, 1, 2, 3, 4, 5, 6, 7, 8, 9, 10, 11]] [[0, 1, 2, 3, 4, 5, 6, 7, 8, 9, 10, 11]]\n"
     ]
    }
   ],
   "source": [
    "# counting how many instances are different\n",
    "count_nested = 0\n",
    "different_results_nested = []\n",
    "count_greedy = 0\n",
    "different_results_greedy = []\n",
    "for k in range(n_simulations):\n",
    "    if bestS_IP[k] != bestS_greedy[k]:\n",
    "        count_greedy += 100/n_simulations\n",
    "        different_results_greedy.append(100*profits_greedy[k]/profits_IP[k])\n",
    "    print(bestS_IP, bestS_greedy)\n",
    "    if bestS_IP[k] != bestS_nested[k]:\n",
    "        count_nested += 100/n_simulations\n",
    "        different_results_nested.append(100*profits_nested[k]/profits_IP[k])\n",
    "    print(bestS_IP, bestS_nested)"
   ]
  },
  {
   "cell_type": "code",
   "execution_count": 437,
   "id": "32c09ec9",
   "metadata": {},
   "outputs": [],
   "source": [
    "if different_results_greedy != []:\n",
    "  print('The greedy algorithm is different from the MIP in ' + str(count_greedy) + ' of the instances' , \\\n",
    "        'with an average ratio of ' + str(st.mean(different_results_greedy)) + '%', \\\n",
    "              'and a minimum ratio of ' + str(min(different_results_greedy)) + '%', \\\n",
    "                'and an average time of ' + str(avg_time_greedy) + ' seconds')\n",
    "if different_results_nested != []:\n",
    "  print('The nested algorithm is different from the MIP in ' + str(count_nested) + ' of the instances', \\\n",
    "        'with an average ratio of ' + str(st.mean(different_results_nested)) + '%', \\\n",
    "              'and a minimum ratio of ' + str(min(different_results_nested)) + '%', \n",
    "                'and an average time of ' + str(avg_time_nested) + ' seconds')"
   ]
  },
  {
   "cell_type": "code",
   "execution_count": 438,
   "id": "53fc9da3",
   "metadata": {},
   "outputs": [],
   "source": [
    "# brute_force(psim[0])\n"
   ]
  }
 ],
 "metadata": {
  "kernelspec": {
   "display_name": "GAAP",
   "language": "python",
   "name": "python3"
  },
  "language_info": {
   "codemirror_mode": {
    "name": "ipython",
    "version": 3
   },
   "file_extension": ".py",
   "mimetype": "text/x-python",
   "name": "python",
   "nbconvert_exporter": "python",
   "pygments_lexer": "ipython3",
   "version": "3.7.16"
  },
  "vscode": {
   "interpreter": {
    "hash": "808b68e8c7f41400243e141156863e12fdf8189e6aeebe351602b6095ef30b98"
   }
  }
 },
 "nbformat": 4,
 "nbformat_minor": 5
}
