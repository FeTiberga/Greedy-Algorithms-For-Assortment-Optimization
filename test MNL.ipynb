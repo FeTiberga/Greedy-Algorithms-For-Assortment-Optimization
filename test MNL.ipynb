{
 "cells": [
  {
   "cell_type": "code",
   "execution_count": 28,
   "metadata": {},
   "outputs": [],
   "source": [
    "import gurobipy as gp"
   ]
  },
  {
   "cell_type": "code",
   "execution_count": 29,
   "metadata": {},
   "outputs": [
    {
     "name": "stdout",
     "output_type": "stream",
     "text": [
      "[0.09 0.06 0.11 0.23 0.25 0.33 0.35 0.44 0.08 0.47 0.02 0.06 0.02 0.72\n",
      " 0.04 0.75 0.05 0.05 0.05 0.08 0.08 0.07 1.11 0.07 1.28 0.08 1.4  0.04\n",
      " 1.49 1.45 0.03 1.62 1.67 0.03 0.08 1.85 1.82 0.09 1.98 1.99 0.07 0.07\n",
      " 2.12 2.21 0.1  2.34 0.02 0.03 0.01 2.48 0.08 2.61 0.08 0.05 2.76 2.78\n",
      " 2.8  2.92 2.93 3.03 0.01 0.01 3.16 0.04 0.07 3.33 0.07 3.37 3.43 3.47\n",
      " 3.57 0.08 0.1  0.04 0.02 3.84 0.02 0.07 0.03 0.01 0.02 0.01 4.13 4.15\n",
      " 4.26 0.07 0.08 0.03 4.43 4.5  0.01 4.57 4.61 4.72 4.71 0.01 0.04 4.86\n",
      " 0.01 0.02]\n"
     ]
    }
   ],
   "source": [
    "import numpy as np\n",
    "import numpy.random as npr\n",
    "npr.seed = 1\n",
    "N = 100 #25 50 75 100\n",
    "v = np.zeros(N)\n",
    "# v = npr.uniform(0.5, 1.5, N)\n",
    "for i in range(N):\n",
    "    utility = npr.randint(0, 2)*i*0.05 + npr.rand()*0.1\n",
    "    v[i] = max(round(utility, 2), 0.01) \n",
    "print(v)"
   ]
  },
  {
   "cell_type": "code",
   "execution_count": 30,
   "metadata": {},
   "outputs": [],
   "source": [
    "def profit_mnl(p, S):\n",
    "    global v\n",
    "    pi = 0\n",
    "    Vj_S = 0\n",
    "    num = 0\n",
    "    for i in S:\n",
    "        num += p[i]*v[i]\n",
    "        Vj_S += v[i]\n",
    "    pi += num/(1+Vj_S)\n",
    "    return pi"
   ]
  },
  {
   "cell_type": "code",
   "execution_count": 31,
   "metadata": {},
   "outputs": [],
   "source": [
    "def nested_by_price_mnl(p):\n",
    "    global N\n",
    "    profits = [0 for i in range(N)]\n",
    "    S = []\n",
    "    for i in range(N):\n",
    "        S.append(i)\n",
    "        profits[i] = profit_mnl(p, S)\n",
    "    best_S = [i for i in range(np.argmax(profits)+1)]\n",
    "    return max(profits), best_S"
   ]
  },
  {
   "cell_type": "code",
   "execution_count": 32,
   "metadata": {},
   "outputs": [],
   "source": [
    "def find_best_option_mnl(p, S):\n",
    "    global v, N\n",
    "    current_best = profit_mnl(p, S)\n",
    "    bestS = S\n",
    "    flag = 0\n",
    "    N_S = [k for k in range(N) if k not in S]\n",
    "    for k in N_S:\n",
    "        newS = S + [k]\n",
    "        if profit_mnl(p, newS) >= current_best:\n",
    "            flag = 1\n",
    "            bestS = newS\n",
    "            current_best = profit_mnl(p, newS)\n",
    "    return current_best, bestS, flag\n",
    "\n",
    "def greedy_mnl(p):\n",
    "    global v, N\n",
    "    max_profit = -1\n",
    "    best_S = []\n",
    "    S = []\n",
    "    flag = 1\n",
    "    while flag==1:\n",
    "        max_profit, S, flag = find_best_option_mnl(p, S)\n",
    "    best_S = sorted(S)\n",
    "    return max_profit, best_S"
   ]
  },
  {
   "cell_type": "code",
   "execution_count": 33,
   "metadata": {},
   "outputs": [],
   "source": [
    "import matplotlib.pyplot as plt\n",
    "import math\n",
    "import statistics as st\n",
    "import time"
   ]
  },
  {
   "cell_type": "code",
   "execution_count": 34,
   "metadata": {},
   "outputs": [],
   "source": [
    "n_simulations = 1\n",
    "avg_price = 12\n",
    "\n",
    "#compute prices\n",
    "psimn = [0 for k in range(n_simulations)]\n",
    "psimu = [0 for k in range(n_simulations)]\n",
    "psime = [0 for k in range(n_simulations)]\n",
    "for k in range(n_simulations):\n",
    "    psimn[k] = abs(npr.normal(avg_price, avg_price, N))\n",
    "    psimu[k] = npr.uniform(avg_price - math.sqrt(3*avg_price), avg_price + math.sqrt(3*avg_price), N)\n",
    "    psime[k] = npr.exponential(avg_price, N)\n",
    "    psimn[k] = np.round(psimn[k], 2)\n",
    "    psimu[k] = np.round(psimu[k], 2)\n",
    "    psime[k] = np.round(psime[k], 2)\n",
    "    psimn[k] = sorted(psimn[k], reverse=True)\n",
    "    psimu[k] = sorted(psimu[k], reverse=True)\n",
    "    psime[k] = sorted(psime[k], reverse=True)"
   ]
  },
  {
   "cell_type": "code",
   "execution_count": 35,
   "metadata": {},
   "outputs": [
    {
     "name": "stdout",
     "output_type": "stream",
     "text": [
      "[[40.76, 39.35, 38.64, 35.36, 34.29, 31.07, 31.03, 30.73, 30.09, 29.72, 28.81, 28.8, 28.15, 27.33, 27.24, 26.93, 26.78, 26.36, 25.48, 24.84, 23.59, 22.02, 21.75, 21.74, 21.6, 21.58, 21.46, 20.81, 20.54, 20.21, 20.01, 19.96, 19.84, 19.31, 18.16, 18.01, 16.81, 16.6, 16.39, 16.01, 15.54, 15.36, 14.96, 14.64, 14.58, 14.55, 13.72, 13.51, 13.44, 13.17, 12.97, 12.89, 12.54, 12.45, 12.33, 12.05, 11.72, 11.31, 10.75, 9.75, 9.6, 9.4, 9.27, 8.1, 8.05, 7.98, 7.94, 7.65, 7.59, 7.57, 7.2, 7.0, 6.83, 6.07, 5.83, 5.83, 5.41, 5.2, 5.05, 4.24, 4.09, 4.0, 3.99, 3.9, 3.75, 3.46, 3.05, 2.85, 2.83, 2.81, 2.56, 1.58, 1.5, 1.41, 1.39, 1.17, 1.16, 0.69, 0.57, 0.42]]\n",
      "[[17.89, 17.85, 17.83, 17.79, 17.78, 17.78, 17.72, 17.59, 17.49, 17.44, 17.44, 17.38, 17.27, 17.25, 17.25, 17.15, 16.93, 16.81, 16.81, 16.78, 16.73, 16.61, 16.6, 16.34, 16.29, 16.28, 16.16, 15.71, 15.53, 15.48, 15.43, 15.27, 15.02, 14.95, 14.94, 14.92, 14.73, 14.5, 14.47, 14.46, 14.23, 14.2, 14.1, 14.06, 13.89, 13.71, 13.62, 13.47, 13.29, 13.1, 13.0, 12.82, 12.66, 12.66, 12.6, 12.06, 11.72, 11.72, 11.46, 11.17, 11.1, 11.07, 11.0, 10.94, 10.75, 10.69, 10.54, 10.19, 10.12, 10.01, 9.94, 9.91, 9.89, 9.57, 8.93, 8.87, 8.8, 8.8, 8.66, 8.38, 8.14, 8.08, 8.07, 8.05, 8.05, 7.77, 7.65, 7.63, 7.49, 7.47, 7.4, 7.32, 7.26, 7.09, 6.76, 6.65, 6.6, 6.58, 6.53, 6.38]]\n",
      "[[88.04, 53.72, 45.35, 42.97, 42.14, 38.59, 38.13, 35.11, 32.71, 32.53, 32.05, 31.24, 30.93, 29.19, 27.94, 27.65, 26.15, 25.59, 24.22, 23.91, 23.63, 22.7, 22.24, 20.5, 19.54, 18.39, 17.71, 17.4, 17.09, 16.92, 16.5, 16.25, 15.68, 15.4, 15.25, 15.22, 14.88, 14.42, 14.09, 13.76, 13.6, 12.97, 11.97, 11.89, 11.37, 11.25, 11.16, 10.6, 10.37, 10.27, 9.97, 9.77, 9.09, 8.54, 8.16, 8.12, 8.04, 7.48, 6.84, 6.77, 6.54, 6.52, 6.23, 6.18, 6.16, 5.97, 5.62, 5.5, 5.32, 4.82, 4.62, 4.53, 4.21, 3.99, 3.69, 3.58, 3.52, 3.28, 3.13, 3.1, 3.01, 2.93, 2.89, 2.83, 2.8, 2.07, 2.03, 2.0, 2.0, 1.93, 1.84, 1.77, 1.3, 1.24, 1.18, 0.91, 0.9, 0.8, 0.66, 0.27]]\n"
     ]
    }
   ],
   "source": [
    "print(psimn)\n",
    "print(psimu)\n",
    "print(psime)"
   ]
  },
  {
   "cell_type": "code",
   "execution_count": 36,
   "metadata": {},
   "outputs": [],
   "source": [
    "# problem solved using the nested formulation\n",
    "profits_nested = []\n",
    "times_nested = []\n",
    "bestS_nested = []\n",
    "\n",
    "for k in range(n_simulations):\n",
    "\n",
    "    start_time = time.time()\n",
    "    profit, bestS = nested_by_price_mnl(psim[k])\n",
    "    end_time = time.time()\n",
    "\n",
    "    profits_nested.append(profit)\n",
    "    times_nested.append(end_time-start_time)\n",
    "    bestS_nested.append(bestS)\n",
    "    \n",
    "avg_time_nested = st.mean(times_nested)"
   ]
  },
  {
   "cell_type": "code",
   "execution_count": 37,
   "metadata": {},
   "outputs": [],
   "source": [
    "# problem solved using the greedy formulation\n",
    "profits_greedy_n = []\n",
    "times_greedy_n = []\n",
    "bestS_greedy_n = []\n",
    "profits_greedy_u = []\n",
    "times_greedy_u = []\n",
    "bestS_greedy_u = []\n",
    "profits_greedy_e = []\n",
    "times_greedy_e = []\n",
    "bestS_greedy_e = []\n",
    "\n",
    "for k in range(n_simulations):\n",
    "    \n",
    "    start_time = time.time()\n",
    "    profitn, bestSn = greedy_mnl(psimn[k])\n",
    "    profitu, bestSu = greedy_mnl(psimu[k])\n",
    "    profite, bestSe = greedy_mnl(psime[k])\n",
    "    end_time = time.time()\n",
    "    \n",
    "    profits_greedy_n.append(profitn)\n",
    "    times_greedy_n.append(end_time-start_time)\n",
    "    bestS_greedy_n.append(bestSn)\n",
    "    profits_greedy_u.append(profitu)\n",
    "    times_greedy_u.append(end_time-start_time)\n",
    "    bestS_greedy_u.append(bestSu)\n",
    "    profits_greedy_e.append(profite)\n",
    "    times_greedy_e.append(end_time-start_time)\n",
    "    bestS_greedy_e.append(bestSe)\n",
    "\n",
    "# avg_time_greedy = st.mean(times_greedy)"
   ]
  },
  {
   "cell_type": "code",
   "execution_count": 40,
   "metadata": {},
   "outputs": [
    {
     "name": "stdout",
     "output_type": "stream",
     "text": [
      "[0, 1, 2, 3, 4, 5, 6, 7, 8, 9, 10, 11, 12, 13, 14, 15, 16, 17, 18, 19, 20, 21, 22, 23, 24, 25, 26, 27, 28, 29, 30] [0, 1, 2, 3, 4, 5, 6, 7, 8, 9, 10, 11, 12, 13, 14, 15, 16, 17, 18, 19, 26] 14.48769230769231 23.727759398496246\n",
      "[0, 1, 2, 3, 4, 5, 6, 7, 8, 9, 10, 11, 12, 13, 14, 15, 16, 17, 18, 19, 20, 21, 22, 23, 24, 25, 26, 27, 28, 29, 30] [0, 1, 2, 3, 4, 5, 6, 7, 8, 9, 10, 11, 12, 13, 14, 15, 16, 17, 18, 19, 20, 21, 22, 23, 24, 25, 26, 27, 28, 29, 30, 31, 35] 14.48769230769231 15.172465233881159\n",
      "[0, 1, 2, 3, 4, 5, 6, 7, 8, 9, 10, 11, 12, 13, 14, 15, 16, 17, 18, 19, 20, 21, 22, 23, 24, 25, 26, 27, 28, 29, 30] [0, 1, 2, 3, 4, 5, 6, 7, 8, 9, 10, 11, 12, 13, 15] 14.48769230769231 28.28839357429718\n",
      "31 21\n",
      "31 33\n",
      "31 15\n"
     ]
    }
   ],
   "source": [
    "# counting how many instances are different\n",
    "count = 0\n",
    "different_results_greedy = []\n",
    "\n",
    "for k in range(n_simulations):\n",
    "    if bestS_nested[k] != bestS_greedy_n[k]:\n",
    "        count += 100/n_simulations\n",
    "        different_results_greedy.append(100*profits_greedy_n[k]/profits_nested[k])\n",
    "        print(bestS_nested[k], bestS_greedy_n[k], profits_nested[k], profits_greedy_n[k])\n",
    "        print(bestS_nested[k], bestS_greedy_u[k], profits_nested[k], profits_greedy_u[k])\n",
    "        print(bestS_nested[k], bestS_greedy_e[k], profits_nested[k], profits_greedy_e[k])\n",
    "        print(len(bestS_nested[k]), len(bestS_greedy_n[k]))\n",
    "        print(len(bestS_nested[k]), len(bestS_greedy_u[k]))\n",
    "        print(len(bestS_nested[k]), len(bestS_greedy_e[k]))\n"
   ]
  },
  {
   "cell_type": "code",
   "execution_count": 39,
   "metadata": {},
   "outputs": [
    {
     "name": "stdout",
     "output_type": "stream",
     "text": [
      "DR =  100.0\n",
      "Min = 163.778736423729\n",
      "Mean = 163.778736423729\n",
      "t = 514.904049370192\n"
     ]
    }
   ],
   "source": [
    "if different_results_greedy != []:\n",
    "    print('DR =  ' + str(count))\n",
    "    print('Min = ' + str(min(different_results_greedy)))\n",
    "    print('Mean = ' + str(st.mean(different_results_greedy)))\n",
    "else:\n",
    "    print('DR =  0')\n",
    "    print('Min = NA')\n",
    "    print('Mean = NA')\n",
    "print('t = ' + str(100*avg_time_greedy/avg_time_nested))"
   ]
  },
  {
   "cell_type": "code",
   "execution_count": null,
   "metadata": {},
   "outputs": [],
   "source": []
  }
 ],
 "metadata": {
  "kernelspec": {
   "display_name": "GAAP",
   "language": "python",
   "name": "python3"
  },
  "language_info": {
   "codemirror_mode": {
    "name": "ipython",
    "version": 3
   },
   "file_extension": ".py",
   "mimetype": "text/x-python",
   "name": "python",
   "nbconvert_exporter": "python",
   "pygments_lexer": "ipython3",
   "version": "3.7.16"
  },
  "orig_nbformat": 4
 },
 "nbformat": 4,
 "nbformat_minor": 2
}
